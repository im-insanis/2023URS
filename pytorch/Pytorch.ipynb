{
  "nbformat": 4,
  "nbformat_minor": 0,
  "metadata": {
    "colab": {
      "provenance": []
    },
    "kernelspec": {
      "name": "python3",
      "display_name": "Python 3"
    },
    "language_info": {
      "name": "python"
    }
  },
  "cells": [
    {
      "cell_type": "markdown",
      "source": [
        "#Pytorch 2-2"
      ],
      "metadata": {
        "id": "uuo_nbHlXu-f"
      }
    },
    {
      "cell_type": "code",
      "execution_count": 2,
      "metadata": {
        "colab": {
          "base_uri": "https://localhost:8080/"
        },
        "id": "XxtpauK1KZwt",
        "outputId": "60d98716-b0f6-4b1a-f4e5-24464182ed8b"
      },
      "outputs": [
        {
          "output_type": "stream",
          "name": "stdout",
          "text": [
            "tensor([0., 1., 2., 3., 4., 5., 6.])\n"
          ]
        }
      ],
      "source": [
        "import torch\n",
        "\n",
        "t=torch.FloatTensor([0., 1., 2., 3., 4., 5., 6.])\n",
        "print(t)"
      ]
    },
    {
      "cell_type": "code",
      "source": [
        "print(t.dim())\n",
        "print(t.shape)\n",
        "print(t.size())"
      ],
      "metadata": {
        "colab": {
          "base_uri": "https://localhost:8080/"
        },
        "id": "r12TnOBJPNrv",
        "outputId": "fc3bcedd-5172-4abd-d217-4d981027a238"
      },
      "execution_count": 3,
      "outputs": [
        {
          "output_type": "stream",
          "name": "stdout",
          "text": [
            "1\n",
            "torch.Size([7])\n",
            "torch.Size([7])\n"
          ]
        }
      ]
    },
    {
      "cell_type": "code",
      "source": [
        "print(t[0], t[-1])\n",
        "print(t[2:5])"
      ],
      "metadata": {
        "colab": {
          "base_uri": "https://localhost:8080/"
        },
        "id": "CybPWVtqPdTP",
        "outputId": "2cce0a75-b7d2-4213-ff17-ff098b692c87"
      },
      "execution_count": 3,
      "outputs": [
        {
          "output_type": "stream",
          "name": "stdout",
          "text": [
            "tensor(0.) tensor(6.)\n",
            "tensor([2., 3., 4.])\n"
          ]
        }
      ]
    },
    {
      "cell_type": "code",
      "source": [
        "t=torch.FloatTensor([[1., 2., 3], [4., 5., 6.], [7., 8., 9.], [10., 11., 12]])\n",
        "print(t)"
      ],
      "metadata": {
        "colab": {
          "base_uri": "https://localhost:8080/"
        },
        "id": "9ti3xJWzPqk8",
        "outputId": "f17e32f1-6ecc-4791-cb4d-6984f464a05c"
      },
      "execution_count": 4,
      "outputs": [
        {
          "output_type": "stream",
          "name": "stdout",
          "text": [
            "tensor([[ 1.,  2.,  3.],\n",
            "        [ 4.,  5.,  6.],\n",
            "        [ 7.,  8.,  9.],\n",
            "        [10., 11., 12.]])\n"
          ]
        }
      ]
    },
    {
      "cell_type": "code",
      "source": [
        "print(t.dim())\n",
        "print(t.size())"
      ],
      "metadata": {
        "colab": {
          "base_uri": "https://localhost:8080/"
        },
        "id": "3s_9twbzQCt6",
        "outputId": "5ebe574b-ecb5-4fdc-9fe5-42ed91507626"
      },
      "execution_count": 5,
      "outputs": [
        {
          "output_type": "stream",
          "name": "stdout",
          "text": [
            "2\n",
            "torch.Size([4, 3])\n"
          ]
        }
      ]
    },
    {
      "cell_type": "code",
      "source": [
        "print(t[:, 1])\n",
        "print(t[:, 1].size())"
      ],
      "metadata": {
        "colab": {
          "base_uri": "https://localhost:8080/"
        },
        "id": "thN_cKr7c2EZ",
        "outputId": "07d9fef1-a1e1-4206-ef80-f10c6ae23e99"
      },
      "execution_count": 6,
      "outputs": [
        {
          "output_type": "stream",
          "name": "stdout",
          "text": [
            "tensor([ 2.,  5.,  8., 11.])\n",
            "torch.Size([4])\n"
          ]
        }
      ]
    },
    {
      "cell_type": "code",
      "source": [
        "print(t[:, :-1])"
      ],
      "metadata": {
        "colab": {
          "base_uri": "https://localhost:8080/"
        },
        "id": "4WolIkU1D2Hl",
        "outputId": "2837575a-b3e1-49f0-e093-ddb45e7637c6"
      },
      "execution_count": 8,
      "outputs": [
        {
          "output_type": "stream",
          "name": "stdout",
          "text": [
            "tensor([[ 1.,  2.],\n",
            "        [ 4.,  5.],\n",
            "        [ 7.,  8.],\n",
            "        [10., 11.]])\n"
          ]
        }
      ]
    },
    {
      "cell_type": "code",
      "source": [
        "m1=torch.FloatTensor([[3, 3]])\n",
        "m2=torch.FloatTensor([[2, 2]])\n",
        "print(m1+m2)"
      ],
      "metadata": {
        "colab": {
          "base_uri": "https://localhost:8080/"
        },
        "id": "ZqLB7NtZESr5",
        "outputId": "d0f44625-c35a-4ce2-f0a5-3dc456231403"
      },
      "execution_count": 9,
      "outputs": [
        {
          "output_type": "stream",
          "name": "stdout",
          "text": [
            "tensor([[5., 5.]])\n"
          ]
        }
      ]
    },
    {
      "cell_type": "code",
      "source": [
        "m1=torch.FloatTensor([[1, 2]])\n",
        "m2=torch.FloatTensor([3])\n",
        "print(m1+m2)"
      ],
      "metadata": {
        "colab": {
          "base_uri": "https://localhost:8080/"
        },
        "id": "KzKqgs7eEvf0",
        "outputId": "9964eff6-7716-49d5-e275-5634ed7af9a7"
      },
      "execution_count": 10,
      "outputs": [
        {
          "output_type": "stream",
          "name": "stdout",
          "text": [
            "tensor([[4., 5.]])\n"
          ]
        }
      ]
    },
    {
      "cell_type": "code",
      "source": [
        "m1=torch.FloatTensor([[1, 2]])\n",
        "m2=torch.FloatTensor([[3], [4]])\n",
        "print(m1+m2)"
      ],
      "metadata": {
        "colab": {
          "base_uri": "https://localhost:8080/"
        },
        "id": "NDE1mh1JFClj",
        "outputId": "0d0dc3a3-d3d8-4f8a-a80d-dc2193a0a91f"
      },
      "execution_count": 11,
      "outputs": [
        {
          "output_type": "stream",
          "name": "stdout",
          "text": [
            "tensor([[4., 5.],\n",
            "        [5., 6.]])\n"
          ]
        }
      ]
    },
    {
      "cell_type": "code",
      "source": [
        "m1=torch.FloatTensor([[1, 2], [3, 4]])\n",
        "m2=torch.FloatTensor([[1], [2]])\n",
        "print(m1*m2)\n",
        "print(m1.mul(m2))"
      ],
      "metadata": {
        "colab": {
          "base_uri": "https://localhost:8080/"
        },
        "id": "NsOMyt9ZTiJE",
        "outputId": "8e07dc1f-2ea0-4a4c-fa16-a68062cd1a42"
      },
      "execution_count": 4,
      "outputs": [
        {
          "output_type": "stream",
          "name": "stdout",
          "text": [
            "tensor([[1., 2.],\n",
            "        [6., 8.]])\n",
            "tensor([[1., 2.],\n",
            "        [6., 8.]])\n"
          ]
        }
      ]
    },
    {
      "cell_type": "code",
      "source": [
        "print(m1.matmul(m2))"
      ],
      "metadata": {
        "colab": {
          "base_uri": "https://localhost:8080/"
        },
        "id": "mRrygF25UdK5",
        "outputId": "da9d86ea-5976-494e-d3a1-67bae508b7c8"
      },
      "execution_count": 5,
      "outputs": [
        {
          "output_type": "stream",
          "name": "stdout",
          "text": [
            "tensor([[ 5.],\n",
            "        [11.]])\n"
          ]
        }
      ]
    },
    {
      "cell_type": "code",
      "source": [
        "t = torch.FloatTensor([[1, 2], [3, 4]])\n",
        "print(t.mean(dim=0))\n",
        "print(t.mean(dim=1))\n",
        "print(t.mean(dim=-1))"
      ],
      "metadata": {
        "colab": {
          "base_uri": "https://localhost:8080/"
        },
        "id": "DnsxJYgZVivF",
        "outputId": "c54073c0-6e04-4b5c-c415-7d196669b0a8"
      },
      "execution_count": 8,
      "outputs": [
        {
          "output_type": "stream",
          "name": "stdout",
          "text": [
            "tensor([2., 3.])\n",
            "tensor([1.5000, 3.5000])\n",
            "tensor([1.5000, 3.5000])\n"
          ]
        }
      ]
    },
    {
      "cell_type": "code",
      "source": [
        "print(t.sum())\n",
        "print(t.sum(dim=0))\n",
        "print(t.sum(dim=1))\n",
        "print(t.sum(dim=-1))"
      ],
      "metadata": {
        "colab": {
          "base_uri": "https://localhost:8080/"
        },
        "id": "4H7ItLgJWH_x",
        "outputId": "780b998a-ca15-4c7b-f00e-3532b5f65834"
      },
      "execution_count": 10,
      "outputs": [
        {
          "output_type": "stream",
          "name": "stdout",
          "text": [
            "tensor(10.)\n",
            "tensor([4., 6.])\n",
            "tensor([3., 7.])\n",
            "tensor([3., 7.])\n"
          ]
        }
      ]
    },
    {
      "cell_type": "code",
      "source": [
        "print(t.max())\n",
        "print(t.max(dim=0))\n",
        "print(t.max(dim=1))\n",
        "print(t.max(dim=-1))"
      ],
      "metadata": {
        "colab": {
          "base_uri": "https://localhost:8080/"
        },
        "id": "qKmmG6PVWU6W",
        "outputId": "6585a554-2bf6-483d-b8ac-d9700d8c2e96"
      },
      "execution_count": 12,
      "outputs": [
        {
          "output_type": "stream",
          "name": "stdout",
          "text": [
            "tensor(4.)\n",
            "torch.return_types.max(\n",
            "values=tensor([3., 4.]),\n",
            "indices=tensor([1, 1]))\n",
            "torch.return_types.max(\n",
            "values=tensor([2., 4.]),\n",
            "indices=tensor([1, 1]))\n",
            "torch.return_types.max(\n",
            "values=tensor([2., 4.]),\n",
            "indices=tensor([1, 1]))\n"
          ]
        }
      ]
    },
    {
      "cell_type": "markdown",
      "source": [
        "#Pytorch 2-3"
      ],
      "metadata": {
        "id": "iJgvhEE-X5ds"
      }
    },
    {
      "cell_type": "code",
      "source": [
        "import numpy as np\n",
        "\n",
        "t=np.array([[[0, 1, 2], [3, 4, 5]], [[6, 7, 8], [9, 10, 11]]])\n",
        "ft=torch.FloatTensor(t)\n",
        "print(ft)\n",
        "print(ft.shape)"
      ],
      "metadata": {
        "colab": {
          "base_uri": "https://localhost:8080/"
        },
        "id": "mv2nVaK_XtvD",
        "outputId": "f282be63-898d-479b-8d81-eb103cd29e33"
      },
      "execution_count": 14,
      "outputs": [
        {
          "output_type": "stream",
          "name": "stdout",
          "text": [
            "tensor([[[ 0.,  1.,  2.],\n",
            "         [ 3.,  4.,  5.]],\n",
            "\n",
            "        [[ 6.,  7.,  8.],\n",
            "         [ 9., 10., 11.]]])\n",
            "torch.Size([2, 2, 3])\n"
          ]
        }
      ]
    },
    {
      "cell_type": "code",
      "source": [
        "print(ft.view(-1, 3))\n",
        "print(ft.view(-1, 1, 3))\n",
        "print(ft.view(-1, 1, 3).shape)"
      ],
      "metadata": {
        "colab": {
          "base_uri": "https://localhost:8080/"
        },
        "id": "cEa31CUlYtEt",
        "outputId": "5b1b6e9e-9dcc-4459-c759-9287d4e9590b"
      },
      "execution_count": 17,
      "outputs": [
        {
          "output_type": "stream",
          "name": "stdout",
          "text": [
            "tensor([[ 0.,  1.,  2.],\n",
            "        [ 3.,  4.,  5.],\n",
            "        [ 6.,  7.,  8.],\n",
            "        [ 9., 10., 11.]])\n",
            "tensor([[[ 0.,  1.,  2.]],\n",
            "\n",
            "        [[ 3.,  4.,  5.]],\n",
            "\n",
            "        [[ 6.,  7.,  8.]],\n",
            "\n",
            "        [[ 9., 10., 11.]]])\n",
            "torch.Size([4, 1, 3])\n"
          ]
        }
      ]
    },
    {
      "cell_type": "code",
      "source": [
        "ft=torch.FloatTensor([[0], [1], [2]])\n",
        "print(ft)\n",
        "print(ft.shape)"
      ],
      "metadata": {
        "colab": {
          "base_uri": "https://localhost:8080/"
        },
        "id": "dgipl57Idhh9",
        "outputId": "89a83653-c805-4f6e-e5f0-6aa9b800ca2f"
      },
      "execution_count": 18,
      "outputs": [
        {
          "output_type": "stream",
          "name": "stdout",
          "text": [
            "tensor([[0.],\n",
            "        [1.],\n",
            "        [2.]])\n",
            "torch.Size([3, 1])\n"
          ]
        }
      ]
    },
    {
      "cell_type": "code",
      "source": [
        "print(ft.squeeze())\n",
        "print(ft.squeeze().shape)"
      ],
      "metadata": {
        "colab": {
          "base_uri": "https://localhost:8080/"
        },
        "id": "xInMrLoed2Mx",
        "outputId": "d2450ff6-8ef3-4392-be90-ecf30b89bbb3"
      },
      "execution_count": 19,
      "outputs": [
        {
          "output_type": "stream",
          "name": "stdout",
          "text": [
            "tensor([0., 1., 2.])\n",
            "torch.Size([3])\n"
          ]
        }
      ]
    },
    {
      "cell_type": "code",
      "source": [
        "import torch\n",
        "lt=torch.LongTensor([1, 2, 3, 4])\n",
        "bt=torch.ByteTensor([True, False, True, False])\n",
        "print(lt)\n",
        "print(lt.float())\n",
        "print(bt)\n",
        "print(bt.long())\n",
        "print(bt.float())"
      ],
      "metadata": {
        "colab": {
          "base_uri": "https://localhost:8080/"
        },
        "id": "os5C2JascD4x",
        "outputId": "d0b2dce7-9c5e-46d3-cc2d-bb9a1c7f3b2b"
      },
      "execution_count": 5,
      "outputs": [
        {
          "output_type": "stream",
          "name": "stdout",
          "text": [
            "tensor([1, 2, 3, 4])\n",
            "tensor([1., 2., 3., 4.])\n",
            "tensor([1, 0, 1, 0], dtype=torch.uint8)\n",
            "tensor([1, 0, 1, 0])\n",
            "tensor([1., 0., 1., 0.])\n"
          ]
        }
      ]
    },
    {
      "cell_type": "code",
      "source": [
        "x=torch.FloatTensor([1, 4])\n",
        "y=torch.FloatTensor([2, 5])\n",
        "z=torch.FloatTensor([3, 6])\n",
        "print(torch.stack([x, y, z]))\n",
        "print(torch.stack([x, y, z], dim=1))"
      ],
      "metadata": {
        "colab": {
          "base_uri": "https://localhost:8080/"
        },
        "id": "8GYWBrGrdBa6",
        "outputId": "ca2913b3-a4d3-42f8-925e-45c3c97a7792"
      },
      "execution_count": 10,
      "outputs": [
        {
          "output_type": "stream",
          "name": "stdout",
          "text": [
            "tensor([[1., 4.],\n",
            "        [2., 5.],\n",
            "        [3., 6.]])\n",
            "tensor([[1., 2., 3.],\n",
            "        [4., 5., 6.]])\n"
          ]
        }
      ]
    },
    {
      "cell_type": "code",
      "source": [
        "x=torch.IntTensor([[0, 1, 2], [3, 4, 5]])\n",
        "print(torch.ones_like(x))\n",
        "print(torch.zeros_like(x))"
      ],
      "metadata": {
        "colab": {
          "base_uri": "https://localhost:8080/"
        },
        "id": "wXzgzX9idmu8",
        "outputId": "cf1386f7-c2e4-48d8-f329-af6b9c823e21"
      },
      "execution_count": 12,
      "outputs": [
        {
          "output_type": "stream",
          "name": "stdout",
          "text": [
            "tensor([[1, 1, 1],\n",
            "        [1, 1, 1]], dtype=torch.int32)\n",
            "tensor([[0, 0, 0],\n",
            "        [0, 0, 0]], dtype=torch.int32)\n"
          ]
        }
      ]
    },
    {
      "cell_type": "markdown",
      "source": [
        "#3-1 선형회귀"
      ],
      "metadata": {
        "id": "Pu6hLqpJgWl7"
      }
    },
    {
      "cell_type": "code",
      "source": [
        "import torch\n",
        "import torch.nn as nn\n",
        "import torch.nn.functional as F\n",
        "import torch.optim as optim"
      ],
      "metadata": {
        "id": "SpyduXV_gaZD"
      },
      "execution_count": 13,
      "outputs": []
    },
    {
      "cell_type": "code",
      "source": [
        "torch.manual_seed(1)"
      ],
      "metadata": {
        "colab": {
          "base_uri": "https://localhost:8080/"
        },
        "id": "5rIgouyUgp5_",
        "outputId": "7f80d24e-8514-447e-80b5-f9f2a8dda773"
      },
      "execution_count": 14,
      "outputs": [
        {
          "output_type": "execute_result",
          "data": {
            "text/plain": [
              "<torch._C.Generator at 0x7b4100947bd0>"
            ]
          },
          "metadata": {},
          "execution_count": 14
        }
      ]
    },
    {
      "cell_type": "code",
      "source": [
        "x_train=torch.FloatTensor([[1], [2], [3]])\n",
        "y_train=torch.FloatTensor([[2], [4], [6]])"
      ],
      "metadata": {
        "id": "RP63lm1fgwra"
      },
      "execution_count": 16,
      "outputs": []
    },
    {
      "cell_type": "code",
      "source": [
        "print(x_train)\n",
        "print(x_train.shape)"
      ],
      "metadata": {
        "colab": {
          "base_uri": "https://localhost:8080/"
        },
        "id": "eq53KHBEhEOk",
        "outputId": "41951f46-27ec-4bb7-8b03-3de7799da69d"
      },
      "execution_count": 17,
      "outputs": [
        {
          "output_type": "stream",
          "name": "stdout",
          "text": [
            "tensor([[1.],\n",
            "        [2.],\n",
            "        [3.]])\n",
            "torch.Size([3, 1])\n"
          ]
        }
      ]
    },
    {
      "cell_type": "code",
      "source": [
        "print(y_train)\n",
        "print(y_train.shape)"
      ],
      "metadata": {
        "colab": {
          "base_uri": "https://localhost:8080/"
        },
        "id": "US1xylhohNTB",
        "outputId": "2b8a8912-d0aa-4351-bd26-c4a594ddc615"
      },
      "execution_count": 18,
      "outputs": [
        {
          "output_type": "stream",
          "name": "stdout",
          "text": [
            "tensor([[2.],\n",
            "        [4.],\n",
            "        [6.]])\n",
            "torch.Size([3, 1])\n"
          ]
        }
      ]
    },
    {
      "cell_type": "code",
      "source": [
        "W=torch.zeros(1, requires_grad=True)\n",
        "print(W)"
      ],
      "metadata": {
        "colab": {
          "base_uri": "https://localhost:8080/"
        },
        "id": "D7YL4p0OhXPV",
        "outputId": "7e1a9986-c8a2-4479-da8d-eb9cefc849f2"
      },
      "execution_count": 19,
      "outputs": [
        {
          "output_type": "stream",
          "name": "stdout",
          "text": [
            "tensor([0.], requires_grad=True)\n"
          ]
        }
      ]
    },
    {
      "cell_type": "code",
      "source": [
        "b=torch.zeros(1, requires_grad=True)\n",
        "print(b)"
      ],
      "metadata": {
        "colab": {
          "base_uri": "https://localhost:8080/"
        },
        "id": "YK0YigIlhmU-",
        "outputId": "7ed4de59-71f3-4151-b209-6f444fe7a980"
      },
      "execution_count": 21,
      "outputs": [
        {
          "output_type": "stream",
          "name": "stdout",
          "text": [
            "tensor([0.], requires_grad=True)\n"
          ]
        }
      ]
    },
    {
      "cell_type": "code",
      "source": [
        "H=x_train*W+b\n",
        "print(H)"
      ],
      "metadata": {
        "colab": {
          "base_uri": "https://localhost:8080/"
        },
        "id": "ht68qMjwhxGk",
        "outputId": "b7e12a1f-bcca-46d8-e348-243bea7d40af"
      },
      "execution_count": 22,
      "outputs": [
        {
          "output_type": "stream",
          "name": "stdout",
          "text": [
            "tensor([[0.],\n",
            "        [0.],\n",
            "        [0.]], grad_fn=<AddBackward0>)\n"
          ]
        }
      ]
    },
    {
      "cell_type": "code",
      "source": [
        "C=torch.mean((H-y_train)**2)\n",
        "print(C)"
      ],
      "metadata": {
        "colab": {
          "base_uri": "https://localhost:8080/"
        },
        "id": "KBpufwHeh7DO",
        "outputId": "179e32a3-f3a6-4e71-83aa-7693566a5aa1"
      },
      "execution_count": 25,
      "outputs": [
        {
          "output_type": "stream",
          "name": "stdout",
          "text": [
            "tensor(18.6667, grad_fn=<MeanBackward0>)\n"
          ]
        }
      ]
    },
    {
      "cell_type": "code",
      "source": [
        "optimizer=optim.SGD([W, b], lr=0.01)"
      ],
      "metadata": {
        "id": "62g2XEoyiRWn"
      },
      "execution_count": 27,
      "outputs": []
    },
    {
      "cell_type": "code",
      "source": [
        "epoch=1999"
      ],
      "metadata": {
        "id": "kxUxbhf5ibbp"
      },
      "execution_count": 30,
      "outputs": []
    },
    {
      "cell_type": "code",
      "source": [
        "for i in range(epoch+1):\n",
        "  H=x_train*W+b\n",
        "\n",
        "  C=torch.mean((H-y_train)**2)\n",
        "\n",
        "  optimizer.zero_grad()\n",
        "  C.backward()\n",
        "  optimizer.step()\n",
        "\n",
        "  if i%100==0:\n",
        "    print('Epoch {:4d}/{} W: {:.3f}, b: {:.3f} Cost: {:.6f}'.format(i, epoch, W.item(), b.item(), C.item()))"
      ],
      "metadata": {
        "colab": {
          "base_uri": "https://localhost:8080/"
        },
        "id": "zRDiyGjfkGwi",
        "outputId": "c4ccf103-d875-4fb6-c346-4adcbb9462aa"
      },
      "execution_count": 33,
      "outputs": [
        {
          "output_type": "stream",
          "name": "stdout",
          "text": [
            "Epoch    0/1999 W: 1.997, b: 0.006 Cost: 0.000005\n",
            "Epoch  100/1999 W: 1.998, b: 0.005 Cost: 0.000003\n",
            "Epoch  200/1999 W: 1.998, b: 0.004 Cost: 0.000002\n",
            "Epoch  300/1999 W: 1.999, b: 0.003 Cost: 0.000001\n",
            "Epoch  400/1999 W: 1.999, b: 0.002 Cost: 0.000001\n",
            "Epoch  500/1999 W: 1.999, b: 0.002 Cost: 0.000000\n",
            "Epoch  600/1999 W: 1.999, b: 0.001 Cost: 0.000000\n",
            "Epoch  700/1999 W: 2.000, b: 0.001 Cost: 0.000000\n",
            "Epoch  800/1999 W: 2.000, b: 0.001 Cost: 0.000000\n",
            "Epoch  900/1999 W: 2.000, b: 0.001 Cost: 0.000000\n",
            "Epoch 1000/1999 W: 2.000, b: 0.001 Cost: 0.000000\n",
            "Epoch 1100/1999 W: 2.000, b: 0.000 Cost: 0.000000\n",
            "Epoch 1200/1999 W: 2.000, b: 0.000 Cost: 0.000000\n",
            "Epoch 1300/1999 W: 2.000, b: 0.000 Cost: 0.000000\n",
            "Epoch 1400/1999 W: 2.000, b: 0.000 Cost: 0.000000\n",
            "Epoch 1500/1999 W: 2.000, b: 0.000 Cost: 0.000000\n",
            "Epoch 1600/1999 W: 2.000, b: 0.000 Cost: 0.000000\n",
            "Epoch 1700/1999 W: 2.000, b: 0.000 Cost: 0.000000\n",
            "Epoch 1800/1999 W: 2.000, b: 0.000 Cost: 0.000000\n",
            "Epoch 1900/1999 W: 2.000, b: 0.000 Cost: 0.000000\n"
          ]
        }
      ]
    },
    {
      "cell_type": "code",
      "source": [
        "import torch\n",
        "w=torch.tensor(2.0, requires_grad=True)\n",
        "print(w)\n",
        "epoch=20\n",
        "for i in range(epoch+1):\n",
        "  z=2*w\n",
        "  z.backward()\n",
        "  print(w.grad)"
      ],
      "metadata": {
        "colab": {
          "base_uri": "https://localhost:8080/"
        },
        "id": "xk3GIhxQl_zk",
        "outputId": "625441bd-ca73-4597-bfcb-3a10c853eab5"
      },
      "execution_count": 1,
      "outputs": [
        {
          "output_type": "stream",
          "name": "stdout",
          "text": [
            "tensor(2., requires_grad=True)\n",
            "tensor(2.)\n",
            "tensor(4.)\n",
            "tensor(6.)\n",
            "tensor(8.)\n",
            "tensor(10.)\n",
            "tensor(12.)\n",
            "tensor(14.)\n",
            "tensor(16.)\n",
            "tensor(18.)\n",
            "tensor(20.)\n",
            "tensor(22.)\n",
            "tensor(24.)\n",
            "tensor(26.)\n",
            "tensor(28.)\n",
            "tensor(30.)\n",
            "tensor(32.)\n",
            "tensor(34.)\n",
            "tensor(36.)\n",
            "tensor(38.)\n",
            "tensor(40.)\n",
            "tensor(42.)\n"
          ]
        }
      ]
    },
    {
      "cell_type": "markdown",
      "source": [
        "#3-2 자동 미분"
      ],
      "metadata": {
        "id": "gDncWz_0KK9y"
      }
    },
    {
      "cell_type": "code",
      "source": [
        "import torch\n",
        "\n",
        "w=torch.tensor(2.0, requires_grad=True)\n",
        "y=w**2\n",
        "z=2*y+5\n",
        "\n",
        "z.backward()\n",
        "print(w.grad)"
      ],
      "metadata": {
        "colab": {
          "base_uri": "https://localhost:8080/"
        },
        "id": "OQJTzdAKKKTO",
        "outputId": "67edb7f7-febd-4f75-f30d-333d27e1fc26"
      },
      "execution_count": 2,
      "outputs": [
        {
          "output_type": "stream",
          "name": "stdout",
          "text": [
            "tensor(8.)\n"
          ]
        }
      ]
    },
    {
      "cell_type": "markdown",
      "source": [
        "#3-3 다중 선형 회귀"
      ],
      "metadata": {
        "id": "zFiRzskWHPh4"
      }
    },
    {
      "cell_type": "code",
      "source": [
        "import torch\n",
        "import torch.nn as nn\n",
        "import torch.nn.functional as F\n",
        "import torch.optim as optim"
      ],
      "metadata": {
        "id": "1o9RsFyYHSfJ"
      },
      "execution_count": 1,
      "outputs": []
    },
    {
      "cell_type": "code",
      "source": [
        "torch.manual_seed(1)"
      ],
      "metadata": {
        "colab": {
          "base_uri": "https://localhost:8080/"
        },
        "id": "kVcE8hg5KZvp",
        "outputId": "68fd1582-cc57-4648-984f-b49326d89f37"
      },
      "execution_count": 2,
      "outputs": [
        {
          "output_type": "execute_result",
          "data": {
            "text/plain": [
              "<torch._C.Generator at 0x79b72f23fc30>"
            ]
          },
          "metadata": {},
          "execution_count": 2
        }
      ]
    },
    {
      "cell_type": "code",
      "source": [
        "x1_train=torch.FloatTensor([[73], [93], [89], [96], [73]])\n",
        "x2_train = torch.FloatTensor([[80], [88], [91], [98], [66]])\n",
        "x3_train = torch.FloatTensor([[75], [93], [90], [100], [70]])\n",
        "y_train = torch.FloatTensor([[152], [185], [180], [196], [142]])"
      ],
      "metadata": {
        "id": "b_49alCrQaPA"
      },
      "execution_count": 3,
      "outputs": []
    },
    {
      "cell_type": "code",
      "source": [
        "w1=torch.zeros(1, requires_grad=True)\n",
        "w2=torch.zeros(1, requires_grad=True)\n",
        "w3=torch.zeros(1, requires_grad=True)\n",
        "b=torch.zeros(1, requires_grad=True)"
      ],
      "metadata": {
        "id": "DDQjNBZ8Qz7l"
      },
      "execution_count": 4,
      "outputs": []
    },
    {
      "cell_type": "code",
      "source": [
        "optimizer=optim.SGD([w1, w2, w3, b], lr=1e-5)\n",
        "epoch=1000"
      ],
      "metadata": {
        "id": "hJ_O4l0vOPLs"
      },
      "execution_count": 6,
      "outputs": []
    },
    {
      "cell_type": "code",
      "source": [
        "for i in range(epoch+1):\n",
        "  H=w1*x1_train+w2*x2_train+w3*x3_train+b\n",
        "  C=torch.mean((H-y_train)**2)\n",
        "\n",
        "  optimizer.zero_grad()\n",
        "  C.backward()\n",
        "  optimizer.step()\n",
        "\n",
        "  if i%100==0:\n",
        "    print('Epoch {:4d}/{} w1: {:.3f} w2: {:.3f} w3: {:.3f} b: {:.3f} Cost: {:.6f}'.format(\n",
        "            i, epoch, w1.item(), w2.item(), w3.item(), b.item(), C.item()\n",
        "        ))"
      ],
      "metadata": {
        "colab": {
          "base_uri": "https://localhost:8080/"
        },
        "id": "h4EH4MrHO64b",
        "outputId": "65287dc9-c4a0-43f5-c824-3a573a1edece"
      },
      "execution_count": 9,
      "outputs": [
        {
          "output_type": "stream",
          "name": "stdout",
          "text": [
            "Epoch    0/1000 w1: 0.551 w2: 0.550 w3: 0.557 b: 0.006 Cost: 2915.712402\n",
            "Epoch  100/1000 w1: 0.674 w2: 0.661 w3: 0.676 b: 0.008 Cost: 1.562267\n",
            "Epoch  200/1000 w1: 0.679 w2: 0.655 w3: 0.677 b: 0.008 Cost: 1.496319\n",
            "Epoch  300/1000 w1: 0.684 w2: 0.649 w3: 0.677 b: 0.008 Cost: 1.433817\n",
            "Epoch  400/1000 w1: 0.690 w2: 0.643 w3: 0.678 b: 0.008 Cost: 1.374578\n",
            "Epoch  500/1000 w1: 0.695 w2: 0.638 w3: 0.678 b: 0.009 Cost: 1.318401\n",
            "Epoch  600/1000 w1: 0.699 w2: 0.632 w3: 0.679 b: 0.009 Cost: 1.265181\n",
            "Epoch  700/1000 w1: 0.704 w2: 0.627 w3: 0.679 b: 0.009 Cost: 1.214727\n",
            "Epoch  800/1000 w1: 0.709 w2: 0.622 w3: 0.679 b: 0.009 Cost: 1.166880\n",
            "Epoch  900/1000 w1: 0.714 w2: 0.617 w3: 0.680 b: 0.009 Cost: 1.121539\n",
            "Epoch 1000/1000 w1: 0.718 w2: 0.612 w3: 0.680 b: 0.009 Cost: 1.078544\n"
          ]
        }
      ]
    },
    {
      "cell_type": "markdown",
      "source": [
        "#다중 선형 회귀 - 내적"
      ],
      "metadata": {
        "id": "LH9AH0ZRTum6"
      }
    },
    {
      "cell_type": "code",
      "source": [
        "import torch\n",
        "import torch.nn as nn\n",
        "import torch.nn.functional as F\n",
        "import torch.optim as optim\n",
        "\n",
        "torch.manual_seed(1)\n",
        "\n",
        "X_train=torch.FloatTensor([[73, 80, 75], [93, 88, 93], [89, 91, 90], [96, 98, 100], [73, 66, 70]])\n",
        "Y_train = torch.FloatTensor([[152], [185], [180], [196], [142]])\n",
        "\n",
        "W=torch.zeros((3, 1), requires_grad=True)\n",
        "b=torch.zeros(1, requires_grad=True)\n",
        "\n",
        "optimizer=optim.SGD([W, b], lr=1e-5)\n",
        "\n",
        "epoch=1000\n",
        "\n",
        "for i in range(epoch+1):\n",
        "  H=X_train.matmul(W)+b\n",
        "  C=torch.mean((H-Y_train)**2)\n",
        "\n",
        "  optimizer.zero_grad()\n",
        "  C.backward()\n",
        "  optimizer.step()\n",
        "\n",
        "  if i%100==0:\n",
        "    print('Epoch {:4d}/{} hypothesis: {} Cost: {:.6f}'.format(\n",
        "        i, epoch, H.squeeze().detach(), C.item()))"
      ],
      "metadata": {
        "colab": {
          "base_uri": "https://localhost:8080/"
        },
        "id": "NDpPHHOBP70J",
        "outputId": "71c8e064-feeb-4b37-f066-7732d726b81f"
      },
      "execution_count": 14,
      "outputs": [
        {
          "output_type": "stream",
          "name": "stdout",
          "text": [
            "Epoch    0/1000 hypothesis: tensor([0., 0., 0., 0., 0.]) Cost: 29661.800781\n",
            "Epoch  100/1000 hypothesis: tensor([152.7691, 183.6985, 180.9591, 197.0627, 140.1336]) Cost: 1.563628\n",
            "Epoch  200/1000 hypothesis: tensor([152.7273, 183.7273, 180.9465, 197.0517, 140.1731]) Cost: 1.497595\n",
            "Epoch  300/1000 hypothesis: tensor([152.6866, 183.7554, 180.9343, 197.0409, 140.2116]) Cost: 1.435044\n",
            "Epoch  400/1000 hypothesis: tensor([152.6470, 183.7827, 180.9224, 197.0304, 140.2491]) Cost: 1.375726\n",
            "Epoch  500/1000 hypothesis: tensor([152.6085, 183.8093, 180.9108, 197.0201, 140.2856]) Cost: 1.319507\n",
            "Epoch  600/1000 hypothesis: tensor([152.5711, 183.8352, 180.8996, 197.0101, 140.3211]) Cost: 1.266222\n",
            "Epoch  700/1000 hypothesis: tensor([152.5346, 183.8604, 180.8887, 197.0003, 140.3557]) Cost: 1.215703\n",
            "Epoch  800/1000 hypothesis: tensor([152.4992, 183.8849, 180.8780, 196.9908, 140.3895]) Cost: 1.167810\n",
            "Epoch  900/1000 hypothesis: tensor([152.4647, 183.9087, 180.8677, 196.9814, 140.4223]) Cost: 1.122429\n",
            "Epoch 1000/1000 hypothesis: tensor([152.4312, 183.9319, 180.8577, 196.9723, 140.4543]) Cost: 1.079390\n"
          ]
        }
      ]
    },
    {
      "cell_type": "markdown",
      "source": [
        "#3-4 nn.Module 선형 회귀"
      ],
      "metadata": {
        "id": "sTTS_iT8T8_9"
      }
    },
    {
      "cell_type": "code",
      "source": [
        "import torch\n",
        "import torch.nn as nn\n",
        "import torch.nn.functional as F"
      ],
      "metadata": {
        "id": "w5pH7xqKT51k"
      },
      "execution_count": 16,
      "outputs": []
    },
    {
      "cell_type": "code",
      "source": [
        "torch.manual_seed(1)"
      ],
      "metadata": {
        "colab": {
          "base_uri": "https://localhost:8080/"
        },
        "id": "mqPXj5VBUtlu",
        "outputId": "490a46de-4b8a-49bc-fcf7-89b56b6a8c8f"
      },
      "execution_count": 17,
      "outputs": [
        {
          "output_type": "execute_result",
          "data": {
            "text/plain": [
              "<torch._C.Generator at 0x79b72f23fc30>"
            ]
          },
          "metadata": {},
          "execution_count": 17
        }
      ]
    },
    {
      "cell_type": "code",
      "source": [
        "x_train = torch.FloatTensor([[1], [2], [3]])\n",
        "y_train = torch.FloatTensor([[2], [4], [6]])"
      ],
      "metadata": {
        "id": "-wneRKkJUzGr"
      },
      "execution_count": 18,
      "outputs": []
    },
    {
      "cell_type": "code",
      "source": [
        "model=nn.Linear(1, 1)"
      ],
      "metadata": {
        "id": "UqXWUj8XU2VN"
      },
      "execution_count": 19,
      "outputs": []
    },
    {
      "cell_type": "code",
      "source": [
        "print(list(model.parameters()))"
      ],
      "metadata": {
        "colab": {
          "base_uri": "https://localhost:8080/"
        },
        "id": "CiqzXknyVIjp",
        "outputId": "2cddcdc6-1cf2-465b-8615-8bacc5e0502a"
      },
      "execution_count": 20,
      "outputs": [
        {
          "output_type": "stream",
          "name": "stdout",
          "text": [
            "[Parameter containing:\n",
            "tensor([[0.5153]], requires_grad=True), Parameter containing:\n",
            "tensor([-0.4414], requires_grad=True)]\n"
          ]
        }
      ]
    },
    {
      "cell_type": "code",
      "source": [
        "optimizer=torch.optim.SGD(model.parameters(), lr=0.01)"
      ],
      "metadata": {
        "id": "G9qr1SLdVTmX"
      },
      "execution_count": 21,
      "outputs": []
    },
    {
      "cell_type": "code",
      "source": [
        "epoch=2000\n",
        "\n",
        "for i in range(epoch+1):\n",
        "  P=model(x_train)\n",
        "  C=F.mse_loss(P, y_train)\n",
        "\n",
        "  optimizer.zero_grad()\n",
        "  C.backward()\n",
        "  optimizer.step()\n",
        "\n",
        "  if i % 100 == 0:\n",
        "      print('Epoch {:4d}/{} Cost: {:.6f}'.format(\n",
        "          i, epoch, C.item()\n",
        "      ))"
      ],
      "metadata": {
        "colab": {
          "base_uri": "https://localhost:8080/"
        },
        "id": "RxkSafX8Vjvp",
        "outputId": "ae761878-d05d-483b-f938-c9c0767a90db"
      },
      "execution_count": 22,
      "outputs": [
        {
          "output_type": "stream",
          "name": "stdout",
          "text": [
            "Epoch    0/2000 Cost: 13.103541\n",
            "Epoch    1/2000 Cost: 10.358571\n",
            "Epoch    2/2000 Cost: 8.188817\n",
            "Epoch    3/2000 Cost: 6.473738\n",
            "Epoch    4/2000 Cost: 5.118055\n",
            "Epoch    5/2000 Cost: 4.046456\n",
            "Epoch    6/2000 Cost: 3.199410\n",
            "Epoch    7/2000 Cost: 2.529861\n",
            "Epoch    8/2000 Cost: 2.000614\n",
            "Epoch    9/2000 Cost: 1.582268\n",
            "Epoch   10/2000 Cost: 1.251583\n",
            "Epoch   11/2000 Cost: 0.990191\n",
            "Epoch   12/2000 Cost: 0.783570\n",
            "Epoch   13/2000 Cost: 0.620243\n",
            "Epoch   14/2000 Cost: 0.491138\n",
            "Epoch   15/2000 Cost: 0.389082\n",
            "Epoch   16/2000 Cost: 0.308409\n",
            "Epoch   17/2000 Cost: 0.244637\n",
            "Epoch   18/2000 Cost: 0.194224\n",
            "Epoch   19/2000 Cost: 0.154372\n",
            "Epoch   20/2000 Cost: 0.122867\n",
            "Epoch   21/2000 Cost: 0.097959\n",
            "Epoch   22/2000 Cost: 0.078267\n",
            "Epoch   23/2000 Cost: 0.062698\n",
            "Epoch   24/2000 Cost: 0.050387\n",
            "Epoch   25/2000 Cost: 0.040652\n",
            "Epoch   26/2000 Cost: 0.032953\n",
            "Epoch   27/2000 Cost: 0.026864\n",
            "Epoch   28/2000 Cost: 0.022046\n",
            "Epoch   29/2000 Cost: 0.018234\n",
            "Epoch   30/2000 Cost: 0.015217\n",
            "Epoch   31/2000 Cost: 0.012829\n",
            "Epoch   32/2000 Cost: 0.010937\n",
            "Epoch   33/2000 Cost: 0.009438\n",
            "Epoch   34/2000 Cost: 0.008249\n",
            "Epoch   35/2000 Cost: 0.007305\n",
            "Epoch   36/2000 Cost: 0.006556\n",
            "Epoch   37/2000 Cost: 0.005960\n",
            "Epoch   38/2000 Cost: 0.005485\n",
            "Epoch   39/2000 Cost: 0.005105\n",
            "Epoch   40/2000 Cost: 0.004802\n",
            "Epoch   41/2000 Cost: 0.004558\n",
            "Epoch   42/2000 Cost: 0.004362\n",
            "Epoch   43/2000 Cost: 0.004203\n",
            "Epoch   44/2000 Cost: 0.004074\n",
            "Epoch   45/2000 Cost: 0.003969\n",
            "Epoch   46/2000 Cost: 0.003882\n",
            "Epoch   47/2000 Cost: 0.003809\n",
            "Epoch   48/2000 Cost: 0.003748\n",
            "Epoch   49/2000 Cost: 0.003697\n",
            "Epoch   50/2000 Cost: 0.003652\n",
            "Epoch   51/2000 Cost: 0.003614\n",
            "Epoch   52/2000 Cost: 0.003580\n",
            "Epoch   53/2000 Cost: 0.003550\n",
            "Epoch   54/2000 Cost: 0.003522\n",
            "Epoch   55/2000 Cost: 0.003497\n",
            "Epoch   56/2000 Cost: 0.003474\n",
            "Epoch   57/2000 Cost: 0.003452\n",
            "Epoch   58/2000 Cost: 0.003431\n",
            "Epoch   59/2000 Cost: 0.003412\n",
            "Epoch   60/2000 Cost: 0.003393\n",
            "Epoch   61/2000 Cost: 0.003375\n",
            "Epoch   62/2000 Cost: 0.003357\n",
            "Epoch   63/2000 Cost: 0.003339\n",
            "Epoch   64/2000 Cost: 0.003322\n",
            "Epoch   65/2000 Cost: 0.003306\n",
            "Epoch   66/2000 Cost: 0.003289\n",
            "Epoch   67/2000 Cost: 0.003273\n",
            "Epoch   68/2000 Cost: 0.003257\n",
            "Epoch   69/2000 Cost: 0.003241\n",
            "Epoch   70/2000 Cost: 0.003225\n",
            "Epoch   71/2000 Cost: 0.003209\n",
            "Epoch   72/2000 Cost: 0.003194\n",
            "Epoch   73/2000 Cost: 0.003178\n",
            "Epoch   74/2000 Cost: 0.003163\n",
            "Epoch   75/2000 Cost: 0.003148\n",
            "Epoch   76/2000 Cost: 0.003133\n",
            "Epoch   77/2000 Cost: 0.003117\n",
            "Epoch   78/2000 Cost: 0.003102\n",
            "Epoch   79/2000 Cost: 0.003088\n",
            "Epoch   80/2000 Cost: 0.003073\n",
            "Epoch   81/2000 Cost: 0.003058\n",
            "Epoch   82/2000 Cost: 0.003043\n",
            "Epoch   83/2000 Cost: 0.003029\n",
            "Epoch   84/2000 Cost: 0.003014\n",
            "Epoch   85/2000 Cost: 0.003000\n",
            "Epoch   86/2000 Cost: 0.002985\n",
            "Epoch   87/2000 Cost: 0.002971\n",
            "Epoch   88/2000 Cost: 0.002957\n",
            "Epoch   89/2000 Cost: 0.002942\n",
            "Epoch   90/2000 Cost: 0.002928\n",
            "Epoch   91/2000 Cost: 0.002914\n",
            "Epoch   92/2000 Cost: 0.002900\n",
            "Epoch   93/2000 Cost: 0.002886\n",
            "Epoch   94/2000 Cost: 0.002872\n",
            "Epoch   95/2000 Cost: 0.002859\n",
            "Epoch   96/2000 Cost: 0.002845\n",
            "Epoch   97/2000 Cost: 0.002831\n",
            "Epoch   98/2000 Cost: 0.002818\n",
            "Epoch   99/2000 Cost: 0.002804\n",
            "Epoch  100/2000 Cost: 0.002791\n",
            "Epoch  101/2000 Cost: 0.002777\n",
            "Epoch  102/2000 Cost: 0.002764\n",
            "Epoch  103/2000 Cost: 0.002751\n",
            "Epoch  104/2000 Cost: 0.002737\n",
            "Epoch  105/2000 Cost: 0.002724\n",
            "Epoch  106/2000 Cost: 0.002711\n",
            "Epoch  107/2000 Cost: 0.002698\n",
            "Epoch  108/2000 Cost: 0.002685\n",
            "Epoch  109/2000 Cost: 0.002672\n",
            "Epoch  110/2000 Cost: 0.002659\n",
            "Epoch  111/2000 Cost: 0.002647\n",
            "Epoch  112/2000 Cost: 0.002634\n",
            "Epoch  113/2000 Cost: 0.002621\n",
            "Epoch  114/2000 Cost: 0.002609\n",
            "Epoch  115/2000 Cost: 0.002596\n",
            "Epoch  116/2000 Cost: 0.002584\n",
            "Epoch  117/2000 Cost: 0.002571\n",
            "Epoch  118/2000 Cost: 0.002559\n",
            "Epoch  119/2000 Cost: 0.002547\n",
            "Epoch  120/2000 Cost: 0.002534\n",
            "Epoch  121/2000 Cost: 0.002522\n",
            "Epoch  122/2000 Cost: 0.002510\n",
            "Epoch  123/2000 Cost: 0.002498\n",
            "Epoch  124/2000 Cost: 0.002486\n",
            "Epoch  125/2000 Cost: 0.002474\n",
            "Epoch  126/2000 Cost: 0.002462\n",
            "Epoch  127/2000 Cost: 0.002450\n",
            "Epoch  128/2000 Cost: 0.002439\n",
            "Epoch  129/2000 Cost: 0.002427\n",
            "Epoch  130/2000 Cost: 0.002415\n",
            "Epoch  131/2000 Cost: 0.002404\n",
            "Epoch  132/2000 Cost: 0.002392\n",
            "Epoch  133/2000 Cost: 0.002381\n",
            "Epoch  134/2000 Cost: 0.002369\n",
            "Epoch  135/2000 Cost: 0.002358\n",
            "Epoch  136/2000 Cost: 0.002347\n",
            "Epoch  137/2000 Cost: 0.002335\n",
            "Epoch  138/2000 Cost: 0.002324\n",
            "Epoch  139/2000 Cost: 0.002313\n",
            "Epoch  140/2000 Cost: 0.002302\n",
            "Epoch  141/2000 Cost: 0.002291\n",
            "Epoch  142/2000 Cost: 0.002280\n",
            "Epoch  143/2000 Cost: 0.002269\n",
            "Epoch  144/2000 Cost: 0.002258\n",
            "Epoch  145/2000 Cost: 0.002247\n",
            "Epoch  146/2000 Cost: 0.002236\n",
            "Epoch  147/2000 Cost: 0.002226\n",
            "Epoch  148/2000 Cost: 0.002215\n",
            "Epoch  149/2000 Cost: 0.002204\n",
            "Epoch  150/2000 Cost: 0.002194\n",
            "Epoch  151/2000 Cost: 0.002183\n",
            "Epoch  152/2000 Cost: 0.002173\n",
            "Epoch  153/2000 Cost: 0.002162\n",
            "Epoch  154/2000 Cost: 0.002152\n",
            "Epoch  155/2000 Cost: 0.002141\n",
            "Epoch  156/2000 Cost: 0.002131\n",
            "Epoch  157/2000 Cost: 0.002121\n",
            "Epoch  158/2000 Cost: 0.002111\n",
            "Epoch  159/2000 Cost: 0.002101\n",
            "Epoch  160/2000 Cost: 0.002091\n",
            "Epoch  161/2000 Cost: 0.002081\n",
            "Epoch  162/2000 Cost: 0.002071\n",
            "Epoch  163/2000 Cost: 0.002061\n",
            "Epoch  164/2000 Cost: 0.002051\n",
            "Epoch  165/2000 Cost: 0.002041\n",
            "Epoch  166/2000 Cost: 0.002031\n",
            "Epoch  167/2000 Cost: 0.002021\n",
            "Epoch  168/2000 Cost: 0.002012\n",
            "Epoch  169/2000 Cost: 0.002002\n",
            "Epoch  170/2000 Cost: 0.001992\n",
            "Epoch  171/2000 Cost: 0.001983\n",
            "Epoch  172/2000 Cost: 0.001973\n",
            "Epoch  173/2000 Cost: 0.001964\n",
            "Epoch  174/2000 Cost: 0.001954\n",
            "Epoch  175/2000 Cost: 0.001945\n",
            "Epoch  176/2000 Cost: 0.001936\n",
            "Epoch  177/2000 Cost: 0.001926\n",
            "Epoch  178/2000 Cost: 0.001917\n",
            "Epoch  179/2000 Cost: 0.001908\n",
            "Epoch  180/2000 Cost: 0.001899\n",
            "Epoch  181/2000 Cost: 0.001890\n",
            "Epoch  182/2000 Cost: 0.001880\n",
            "Epoch  183/2000 Cost: 0.001871\n",
            "Epoch  184/2000 Cost: 0.001862\n",
            "Epoch  185/2000 Cost: 0.001854\n",
            "Epoch  186/2000 Cost: 0.001845\n",
            "Epoch  187/2000 Cost: 0.001836\n",
            "Epoch  188/2000 Cost: 0.001827\n",
            "Epoch  189/2000 Cost: 0.001818\n",
            "Epoch  190/2000 Cost: 0.001809\n",
            "Epoch  191/2000 Cost: 0.001801\n",
            "Epoch  192/2000 Cost: 0.001792\n",
            "Epoch  193/2000 Cost: 0.001784\n",
            "Epoch  194/2000 Cost: 0.001775\n",
            "Epoch  195/2000 Cost: 0.001766\n",
            "Epoch  196/2000 Cost: 0.001758\n",
            "Epoch  197/2000 Cost: 0.001750\n",
            "Epoch  198/2000 Cost: 0.001741\n",
            "Epoch  199/2000 Cost: 0.001733\n",
            "Epoch  200/2000 Cost: 0.001724\n",
            "Epoch  201/2000 Cost: 0.001716\n",
            "Epoch  202/2000 Cost: 0.001708\n",
            "Epoch  203/2000 Cost: 0.001700\n",
            "Epoch  204/2000 Cost: 0.001692\n",
            "Epoch  205/2000 Cost: 0.001683\n",
            "Epoch  206/2000 Cost: 0.001675\n",
            "Epoch  207/2000 Cost: 0.001667\n",
            "Epoch  208/2000 Cost: 0.001659\n",
            "Epoch  209/2000 Cost: 0.001651\n",
            "Epoch  210/2000 Cost: 0.001643\n",
            "Epoch  211/2000 Cost: 0.001635\n",
            "Epoch  212/2000 Cost: 0.001628\n",
            "Epoch  213/2000 Cost: 0.001620\n",
            "Epoch  214/2000 Cost: 0.001612\n",
            "Epoch  215/2000 Cost: 0.001604\n",
            "Epoch  216/2000 Cost: 0.001597\n",
            "Epoch  217/2000 Cost: 0.001589\n",
            "Epoch  218/2000 Cost: 0.001581\n",
            "Epoch  219/2000 Cost: 0.001574\n",
            "Epoch  220/2000 Cost: 0.001566\n",
            "Epoch  221/2000 Cost: 0.001559\n",
            "Epoch  222/2000 Cost: 0.001551\n",
            "Epoch  223/2000 Cost: 0.001544\n",
            "Epoch  224/2000 Cost: 0.001536\n",
            "Epoch  225/2000 Cost: 0.001529\n",
            "Epoch  226/2000 Cost: 0.001522\n",
            "Epoch  227/2000 Cost: 0.001514\n",
            "Epoch  228/2000 Cost: 0.001507\n",
            "Epoch  229/2000 Cost: 0.001500\n",
            "Epoch  230/2000 Cost: 0.001493\n",
            "Epoch  231/2000 Cost: 0.001485\n",
            "Epoch  232/2000 Cost: 0.001478\n",
            "Epoch  233/2000 Cost: 0.001471\n",
            "Epoch  234/2000 Cost: 0.001464\n",
            "Epoch  235/2000 Cost: 0.001457\n",
            "Epoch  236/2000 Cost: 0.001450\n",
            "Epoch  237/2000 Cost: 0.001443\n",
            "Epoch  238/2000 Cost: 0.001436\n",
            "Epoch  239/2000 Cost: 0.001429\n",
            "Epoch  240/2000 Cost: 0.001422\n",
            "Epoch  241/2000 Cost: 0.001416\n",
            "Epoch  242/2000 Cost: 0.001409\n",
            "Epoch  243/2000 Cost: 0.001402\n",
            "Epoch  244/2000 Cost: 0.001395\n",
            "Epoch  245/2000 Cost: 0.001389\n",
            "Epoch  246/2000 Cost: 0.001382\n",
            "Epoch  247/2000 Cost: 0.001375\n",
            "Epoch  248/2000 Cost: 0.001369\n",
            "Epoch  249/2000 Cost: 0.001362\n",
            "Epoch  250/2000 Cost: 0.001356\n",
            "Epoch  251/2000 Cost: 0.001349\n",
            "Epoch  252/2000 Cost: 0.001343\n",
            "Epoch  253/2000 Cost: 0.001336\n",
            "Epoch  254/2000 Cost: 0.001330\n",
            "Epoch  255/2000 Cost: 0.001323\n",
            "Epoch  256/2000 Cost: 0.001317\n",
            "Epoch  257/2000 Cost: 0.001311\n",
            "Epoch  258/2000 Cost: 0.001304\n",
            "Epoch  259/2000 Cost: 0.001298\n",
            "Epoch  260/2000 Cost: 0.001292\n",
            "Epoch  261/2000 Cost: 0.001286\n",
            "Epoch  262/2000 Cost: 0.001279\n",
            "Epoch  263/2000 Cost: 0.001273\n",
            "Epoch  264/2000 Cost: 0.001267\n",
            "Epoch  265/2000 Cost: 0.001261\n",
            "Epoch  266/2000 Cost: 0.001255\n",
            "Epoch  267/2000 Cost: 0.001249\n",
            "Epoch  268/2000 Cost: 0.001243\n",
            "Epoch  269/2000 Cost: 0.001237\n",
            "Epoch  270/2000 Cost: 0.001231\n",
            "Epoch  271/2000 Cost: 0.001225\n",
            "Epoch  272/2000 Cost: 0.001219\n",
            "Epoch  273/2000 Cost: 0.001213\n",
            "Epoch  274/2000 Cost: 0.001208\n",
            "Epoch  275/2000 Cost: 0.001202\n",
            "Epoch  276/2000 Cost: 0.001196\n",
            "Epoch  277/2000 Cost: 0.001190\n",
            "Epoch  278/2000 Cost: 0.001185\n",
            "Epoch  279/2000 Cost: 0.001179\n",
            "Epoch  280/2000 Cost: 0.001173\n",
            "Epoch  281/2000 Cost: 0.001168\n",
            "Epoch  282/2000 Cost: 0.001162\n",
            "Epoch  283/2000 Cost: 0.001156\n",
            "Epoch  284/2000 Cost: 0.001151\n",
            "Epoch  285/2000 Cost: 0.001145\n",
            "Epoch  286/2000 Cost: 0.001140\n",
            "Epoch  287/2000 Cost: 0.001134\n",
            "Epoch  288/2000 Cost: 0.001129\n",
            "Epoch  289/2000 Cost: 0.001124\n",
            "Epoch  290/2000 Cost: 0.001118\n",
            "Epoch  291/2000 Cost: 0.001113\n",
            "Epoch  292/2000 Cost: 0.001107\n",
            "Epoch  293/2000 Cost: 0.001102\n",
            "Epoch  294/2000 Cost: 0.001097\n",
            "Epoch  295/2000 Cost: 0.001092\n",
            "Epoch  296/2000 Cost: 0.001086\n",
            "Epoch  297/2000 Cost: 0.001081\n",
            "Epoch  298/2000 Cost: 0.001076\n",
            "Epoch  299/2000 Cost: 0.001071\n",
            "Epoch  300/2000 Cost: 0.001066\n",
            "Epoch  301/2000 Cost: 0.001060\n",
            "Epoch  302/2000 Cost: 0.001055\n",
            "Epoch  303/2000 Cost: 0.001050\n",
            "Epoch  304/2000 Cost: 0.001045\n",
            "Epoch  305/2000 Cost: 0.001040\n",
            "Epoch  306/2000 Cost: 0.001035\n",
            "Epoch  307/2000 Cost: 0.001030\n",
            "Epoch  308/2000 Cost: 0.001025\n",
            "Epoch  309/2000 Cost: 0.001020\n",
            "Epoch  310/2000 Cost: 0.001015\n",
            "Epoch  311/2000 Cost: 0.001011\n",
            "Epoch  312/2000 Cost: 0.001006\n",
            "Epoch  313/2000 Cost: 0.001001\n",
            "Epoch  314/2000 Cost: 0.000996\n",
            "Epoch  315/2000 Cost: 0.000991\n",
            "Epoch  316/2000 Cost: 0.000987\n",
            "Epoch  317/2000 Cost: 0.000982\n",
            "Epoch  318/2000 Cost: 0.000977\n",
            "Epoch  319/2000 Cost: 0.000972\n",
            "Epoch  320/2000 Cost: 0.000968\n",
            "Epoch  321/2000 Cost: 0.000963\n",
            "Epoch  322/2000 Cost: 0.000959\n",
            "Epoch  323/2000 Cost: 0.000954\n",
            "Epoch  324/2000 Cost: 0.000949\n",
            "Epoch  325/2000 Cost: 0.000945\n",
            "Epoch  326/2000 Cost: 0.000940\n",
            "Epoch  327/2000 Cost: 0.000936\n",
            "Epoch  328/2000 Cost: 0.000931\n",
            "Epoch  329/2000 Cost: 0.000927\n",
            "Epoch  330/2000 Cost: 0.000922\n",
            "Epoch  331/2000 Cost: 0.000918\n",
            "Epoch  332/2000 Cost: 0.000913\n",
            "Epoch  333/2000 Cost: 0.000909\n",
            "Epoch  334/2000 Cost: 0.000905\n",
            "Epoch  335/2000 Cost: 0.000900\n",
            "Epoch  336/2000 Cost: 0.000896\n",
            "Epoch  337/2000 Cost: 0.000892\n",
            "Epoch  338/2000 Cost: 0.000887\n",
            "Epoch  339/2000 Cost: 0.000883\n",
            "Epoch  340/2000 Cost: 0.000879\n",
            "Epoch  341/2000 Cost: 0.000875\n",
            "Epoch  342/2000 Cost: 0.000871\n",
            "Epoch  343/2000 Cost: 0.000866\n",
            "Epoch  344/2000 Cost: 0.000862\n",
            "Epoch  345/2000 Cost: 0.000858\n",
            "Epoch  346/2000 Cost: 0.000854\n",
            "Epoch  347/2000 Cost: 0.000850\n",
            "Epoch  348/2000 Cost: 0.000846\n",
            "Epoch  349/2000 Cost: 0.000842\n",
            "Epoch  350/2000 Cost: 0.000838\n",
            "Epoch  351/2000 Cost: 0.000834\n",
            "Epoch  352/2000 Cost: 0.000830\n",
            "Epoch  353/2000 Cost: 0.000826\n",
            "Epoch  354/2000 Cost: 0.000822\n",
            "Epoch  355/2000 Cost: 0.000818\n",
            "Epoch  356/2000 Cost: 0.000814\n",
            "Epoch  357/2000 Cost: 0.000810\n",
            "Epoch  358/2000 Cost: 0.000806\n",
            "Epoch  359/2000 Cost: 0.000802\n",
            "Epoch  360/2000 Cost: 0.000798\n",
            "Epoch  361/2000 Cost: 0.000794\n",
            "Epoch  362/2000 Cost: 0.000791\n",
            "Epoch  363/2000 Cost: 0.000787\n",
            "Epoch  364/2000 Cost: 0.000783\n",
            "Epoch  365/2000 Cost: 0.000779\n",
            "Epoch  366/2000 Cost: 0.000776\n",
            "Epoch  367/2000 Cost: 0.000772\n",
            "Epoch  368/2000 Cost: 0.000768\n",
            "Epoch  369/2000 Cost: 0.000764\n",
            "Epoch  370/2000 Cost: 0.000761\n",
            "Epoch  371/2000 Cost: 0.000757\n",
            "Epoch  372/2000 Cost: 0.000753\n",
            "Epoch  373/2000 Cost: 0.000750\n",
            "Epoch  374/2000 Cost: 0.000746\n",
            "Epoch  375/2000 Cost: 0.000743\n",
            "Epoch  376/2000 Cost: 0.000739\n",
            "Epoch  377/2000 Cost: 0.000736\n",
            "Epoch  378/2000 Cost: 0.000732\n",
            "Epoch  379/2000 Cost: 0.000729\n",
            "Epoch  380/2000 Cost: 0.000725\n",
            "Epoch  381/2000 Cost: 0.000722\n",
            "Epoch  382/2000 Cost: 0.000718\n",
            "Epoch  383/2000 Cost: 0.000715\n",
            "Epoch  384/2000 Cost: 0.000711\n",
            "Epoch  385/2000 Cost: 0.000708\n",
            "Epoch  386/2000 Cost: 0.000704\n",
            "Epoch  387/2000 Cost: 0.000701\n",
            "Epoch  388/2000 Cost: 0.000698\n",
            "Epoch  389/2000 Cost: 0.000694\n",
            "Epoch  390/2000 Cost: 0.000691\n",
            "Epoch  391/2000 Cost: 0.000688\n",
            "Epoch  392/2000 Cost: 0.000684\n",
            "Epoch  393/2000 Cost: 0.000681\n",
            "Epoch  394/2000 Cost: 0.000678\n",
            "Epoch  395/2000 Cost: 0.000675\n",
            "Epoch  396/2000 Cost: 0.000671\n",
            "Epoch  397/2000 Cost: 0.000668\n",
            "Epoch  398/2000 Cost: 0.000665\n",
            "Epoch  399/2000 Cost: 0.000662\n",
            "Epoch  400/2000 Cost: 0.000658\n",
            "Epoch  401/2000 Cost: 0.000655\n",
            "Epoch  402/2000 Cost: 0.000652\n",
            "Epoch  403/2000 Cost: 0.000649\n",
            "Epoch  404/2000 Cost: 0.000646\n",
            "Epoch  405/2000 Cost: 0.000643\n",
            "Epoch  406/2000 Cost: 0.000640\n",
            "Epoch  407/2000 Cost: 0.000637\n",
            "Epoch  408/2000 Cost: 0.000634\n",
            "Epoch  409/2000 Cost: 0.000631\n",
            "Epoch  410/2000 Cost: 0.000628\n",
            "Epoch  411/2000 Cost: 0.000625\n",
            "Epoch  412/2000 Cost: 0.000622\n",
            "Epoch  413/2000 Cost: 0.000619\n",
            "Epoch  414/2000 Cost: 0.000616\n",
            "Epoch  415/2000 Cost: 0.000613\n",
            "Epoch  416/2000 Cost: 0.000610\n",
            "Epoch  417/2000 Cost: 0.000607\n",
            "Epoch  418/2000 Cost: 0.000604\n",
            "Epoch  419/2000 Cost: 0.000601\n",
            "Epoch  420/2000 Cost: 0.000598\n",
            "Epoch  421/2000 Cost: 0.000595\n",
            "Epoch  422/2000 Cost: 0.000592\n",
            "Epoch  423/2000 Cost: 0.000589\n",
            "Epoch  424/2000 Cost: 0.000587\n",
            "Epoch  425/2000 Cost: 0.000584\n",
            "Epoch  426/2000 Cost: 0.000581\n",
            "Epoch  427/2000 Cost: 0.000578\n",
            "Epoch  428/2000 Cost: 0.000575\n",
            "Epoch  429/2000 Cost: 0.000573\n",
            "Epoch  430/2000 Cost: 0.000570\n",
            "Epoch  431/2000 Cost: 0.000567\n",
            "Epoch  432/2000 Cost: 0.000564\n",
            "Epoch  433/2000 Cost: 0.000562\n",
            "Epoch  434/2000 Cost: 0.000559\n",
            "Epoch  435/2000 Cost: 0.000556\n",
            "Epoch  436/2000 Cost: 0.000554\n",
            "Epoch  437/2000 Cost: 0.000551\n",
            "Epoch  438/2000 Cost: 0.000548\n",
            "Epoch  439/2000 Cost: 0.000546\n",
            "Epoch  440/2000 Cost: 0.000543\n",
            "Epoch  441/2000 Cost: 0.000541\n",
            "Epoch  442/2000 Cost: 0.000538\n",
            "Epoch  443/2000 Cost: 0.000535\n",
            "Epoch  444/2000 Cost: 0.000533\n",
            "Epoch  445/2000 Cost: 0.000530\n",
            "Epoch  446/2000 Cost: 0.000528\n",
            "Epoch  447/2000 Cost: 0.000525\n",
            "Epoch  448/2000 Cost: 0.000523\n",
            "Epoch  449/2000 Cost: 0.000520\n",
            "Epoch  450/2000 Cost: 0.000518\n",
            "Epoch  451/2000 Cost: 0.000515\n",
            "Epoch  452/2000 Cost: 0.000513\n",
            "Epoch  453/2000 Cost: 0.000510\n",
            "Epoch  454/2000 Cost: 0.000508\n",
            "Epoch  455/2000 Cost: 0.000505\n",
            "Epoch  456/2000 Cost: 0.000503\n",
            "Epoch  457/2000 Cost: 0.000500\n",
            "Epoch  458/2000 Cost: 0.000498\n",
            "Epoch  459/2000 Cost: 0.000496\n",
            "Epoch  460/2000 Cost: 0.000493\n",
            "Epoch  461/2000 Cost: 0.000491\n",
            "Epoch  462/2000 Cost: 0.000489\n",
            "Epoch  463/2000 Cost: 0.000486\n",
            "Epoch  464/2000 Cost: 0.000484\n",
            "Epoch  465/2000 Cost: 0.000482\n",
            "Epoch  466/2000 Cost: 0.000479\n",
            "Epoch  467/2000 Cost: 0.000477\n",
            "Epoch  468/2000 Cost: 0.000475\n",
            "Epoch  469/2000 Cost: 0.000472\n",
            "Epoch  470/2000 Cost: 0.000470\n",
            "Epoch  471/2000 Cost: 0.000468\n",
            "Epoch  472/2000 Cost: 0.000466\n",
            "Epoch  473/2000 Cost: 0.000463\n",
            "Epoch  474/2000 Cost: 0.000461\n",
            "Epoch  475/2000 Cost: 0.000459\n",
            "Epoch  476/2000 Cost: 0.000457\n",
            "Epoch  477/2000 Cost: 0.000455\n",
            "Epoch  478/2000 Cost: 0.000452\n",
            "Epoch  479/2000 Cost: 0.000450\n",
            "Epoch  480/2000 Cost: 0.000448\n",
            "Epoch  481/2000 Cost: 0.000446\n",
            "Epoch  482/2000 Cost: 0.000444\n",
            "Epoch  483/2000 Cost: 0.000442\n",
            "Epoch  484/2000 Cost: 0.000439\n",
            "Epoch  485/2000 Cost: 0.000437\n",
            "Epoch  486/2000 Cost: 0.000435\n",
            "Epoch  487/2000 Cost: 0.000433\n",
            "Epoch  488/2000 Cost: 0.000431\n",
            "Epoch  489/2000 Cost: 0.000429\n",
            "Epoch  490/2000 Cost: 0.000427\n",
            "Epoch  491/2000 Cost: 0.000425\n",
            "Epoch  492/2000 Cost: 0.000423\n",
            "Epoch  493/2000 Cost: 0.000421\n",
            "Epoch  494/2000 Cost: 0.000419\n",
            "Epoch  495/2000 Cost: 0.000417\n",
            "Epoch  496/2000 Cost: 0.000415\n",
            "Epoch  497/2000 Cost: 0.000413\n",
            "Epoch  498/2000 Cost: 0.000411\n",
            "Epoch  499/2000 Cost: 0.000409\n",
            "Epoch  500/2000 Cost: 0.000407\n",
            "Epoch  501/2000 Cost: 0.000405\n",
            "Epoch  502/2000 Cost: 0.000403\n",
            "Epoch  503/2000 Cost: 0.000401\n",
            "Epoch  504/2000 Cost: 0.000399\n",
            "Epoch  505/2000 Cost: 0.000397\n",
            "Epoch  506/2000 Cost: 0.000395\n",
            "Epoch  507/2000 Cost: 0.000393\n",
            "Epoch  508/2000 Cost: 0.000392\n",
            "Epoch  509/2000 Cost: 0.000390\n",
            "Epoch  510/2000 Cost: 0.000388\n",
            "Epoch  511/2000 Cost: 0.000386\n",
            "Epoch  512/2000 Cost: 0.000384\n",
            "Epoch  513/2000 Cost: 0.000382\n",
            "Epoch  514/2000 Cost: 0.000380\n",
            "Epoch  515/2000 Cost: 0.000379\n",
            "Epoch  516/2000 Cost: 0.000377\n",
            "Epoch  517/2000 Cost: 0.000375\n",
            "Epoch  518/2000 Cost: 0.000373\n",
            "Epoch  519/2000 Cost: 0.000371\n",
            "Epoch  520/2000 Cost: 0.000370\n",
            "Epoch  521/2000 Cost: 0.000368\n",
            "Epoch  522/2000 Cost: 0.000366\n",
            "Epoch  523/2000 Cost: 0.000364\n",
            "Epoch  524/2000 Cost: 0.000363\n",
            "Epoch  525/2000 Cost: 0.000361\n",
            "Epoch  526/2000 Cost: 0.000359\n",
            "Epoch  527/2000 Cost: 0.000357\n",
            "Epoch  528/2000 Cost: 0.000356\n",
            "Epoch  529/2000 Cost: 0.000354\n",
            "Epoch  530/2000 Cost: 0.000352\n",
            "Epoch  531/2000 Cost: 0.000350\n",
            "Epoch  532/2000 Cost: 0.000349\n",
            "Epoch  533/2000 Cost: 0.000347\n",
            "Epoch  534/2000 Cost: 0.000345\n",
            "Epoch  535/2000 Cost: 0.000344\n",
            "Epoch  536/2000 Cost: 0.000342\n",
            "Epoch  537/2000 Cost: 0.000341\n",
            "Epoch  538/2000 Cost: 0.000339\n",
            "Epoch  539/2000 Cost: 0.000337\n",
            "Epoch  540/2000 Cost: 0.000336\n",
            "Epoch  541/2000 Cost: 0.000334\n",
            "Epoch  542/2000 Cost: 0.000332\n",
            "Epoch  543/2000 Cost: 0.000331\n",
            "Epoch  544/2000 Cost: 0.000329\n",
            "Epoch  545/2000 Cost: 0.000328\n",
            "Epoch  546/2000 Cost: 0.000326\n",
            "Epoch  547/2000 Cost: 0.000325\n",
            "Epoch  548/2000 Cost: 0.000323\n",
            "Epoch  549/2000 Cost: 0.000321\n",
            "Epoch  550/2000 Cost: 0.000320\n",
            "Epoch  551/2000 Cost: 0.000318\n",
            "Epoch  552/2000 Cost: 0.000317\n",
            "Epoch  553/2000 Cost: 0.000315\n",
            "Epoch  554/2000 Cost: 0.000314\n",
            "Epoch  555/2000 Cost: 0.000312\n",
            "Epoch  556/2000 Cost: 0.000311\n",
            "Epoch  557/2000 Cost: 0.000309\n",
            "Epoch  558/2000 Cost: 0.000308\n",
            "Epoch  559/2000 Cost: 0.000306\n",
            "Epoch  560/2000 Cost: 0.000305\n",
            "Epoch  561/2000 Cost: 0.000303\n",
            "Epoch  562/2000 Cost: 0.000302\n",
            "Epoch  563/2000 Cost: 0.000300\n",
            "Epoch  564/2000 Cost: 0.000299\n",
            "Epoch  565/2000 Cost: 0.000298\n",
            "Epoch  566/2000 Cost: 0.000296\n",
            "Epoch  567/2000 Cost: 0.000295\n",
            "Epoch  568/2000 Cost: 0.000293\n",
            "Epoch  569/2000 Cost: 0.000292\n",
            "Epoch  570/2000 Cost: 0.000291\n",
            "Epoch  571/2000 Cost: 0.000289\n",
            "Epoch  572/2000 Cost: 0.000288\n",
            "Epoch  573/2000 Cost: 0.000286\n",
            "Epoch  574/2000 Cost: 0.000285\n",
            "Epoch  575/2000 Cost: 0.000284\n",
            "Epoch  576/2000 Cost: 0.000282\n",
            "Epoch  577/2000 Cost: 0.000281\n",
            "Epoch  578/2000 Cost: 0.000280\n",
            "Epoch  579/2000 Cost: 0.000278\n",
            "Epoch  580/2000 Cost: 0.000277\n",
            "Epoch  581/2000 Cost: 0.000276\n",
            "Epoch  582/2000 Cost: 0.000274\n",
            "Epoch  583/2000 Cost: 0.000273\n",
            "Epoch  584/2000 Cost: 0.000272\n",
            "Epoch  585/2000 Cost: 0.000270\n",
            "Epoch  586/2000 Cost: 0.000269\n",
            "Epoch  587/2000 Cost: 0.000268\n",
            "Epoch  588/2000 Cost: 0.000266\n",
            "Epoch  589/2000 Cost: 0.000265\n",
            "Epoch  590/2000 Cost: 0.000264\n",
            "Epoch  591/2000 Cost: 0.000263\n",
            "Epoch  592/2000 Cost: 0.000261\n",
            "Epoch  593/2000 Cost: 0.000260\n",
            "Epoch  594/2000 Cost: 0.000259\n",
            "Epoch  595/2000 Cost: 0.000258\n",
            "Epoch  596/2000 Cost: 0.000256\n",
            "Epoch  597/2000 Cost: 0.000255\n",
            "Epoch  598/2000 Cost: 0.000254\n",
            "Epoch  599/2000 Cost: 0.000253\n",
            "Epoch  600/2000 Cost: 0.000251\n",
            "Epoch  601/2000 Cost: 0.000250\n",
            "Epoch  602/2000 Cost: 0.000249\n",
            "Epoch  603/2000 Cost: 0.000248\n",
            "Epoch  604/2000 Cost: 0.000247\n",
            "Epoch  605/2000 Cost: 0.000245\n",
            "Epoch  606/2000 Cost: 0.000244\n",
            "Epoch  607/2000 Cost: 0.000243\n",
            "Epoch  608/2000 Cost: 0.000242\n",
            "Epoch  609/2000 Cost: 0.000241\n",
            "Epoch  610/2000 Cost: 0.000240\n",
            "Epoch  611/2000 Cost: 0.000238\n",
            "Epoch  612/2000 Cost: 0.000237\n",
            "Epoch  613/2000 Cost: 0.000236\n",
            "Epoch  614/2000 Cost: 0.000235\n",
            "Epoch  615/2000 Cost: 0.000234\n",
            "Epoch  616/2000 Cost: 0.000233\n",
            "Epoch  617/2000 Cost: 0.000232\n",
            "Epoch  618/2000 Cost: 0.000231\n",
            "Epoch  619/2000 Cost: 0.000229\n",
            "Epoch  620/2000 Cost: 0.000228\n",
            "Epoch  621/2000 Cost: 0.000227\n",
            "Epoch  622/2000 Cost: 0.000226\n",
            "Epoch  623/2000 Cost: 0.000225\n",
            "Epoch  624/2000 Cost: 0.000224\n",
            "Epoch  625/2000 Cost: 0.000223\n",
            "Epoch  626/2000 Cost: 0.000222\n",
            "Epoch  627/2000 Cost: 0.000221\n",
            "Epoch  628/2000 Cost: 0.000220\n",
            "Epoch  629/2000 Cost: 0.000219\n",
            "Epoch  630/2000 Cost: 0.000218\n",
            "Epoch  631/2000 Cost: 0.000217\n",
            "Epoch  632/2000 Cost: 0.000216\n",
            "Epoch  633/2000 Cost: 0.000215\n",
            "Epoch  634/2000 Cost: 0.000213\n",
            "Epoch  635/2000 Cost: 0.000212\n",
            "Epoch  636/2000 Cost: 0.000211\n",
            "Epoch  637/2000 Cost: 0.000210\n",
            "Epoch  638/2000 Cost: 0.000209\n",
            "Epoch  639/2000 Cost: 0.000208\n",
            "Epoch  640/2000 Cost: 0.000207\n",
            "Epoch  641/2000 Cost: 0.000206\n",
            "Epoch  642/2000 Cost: 0.000205\n",
            "Epoch  643/2000 Cost: 0.000204\n",
            "Epoch  644/2000 Cost: 0.000203\n",
            "Epoch  645/2000 Cost: 0.000202\n",
            "Epoch  646/2000 Cost: 0.000201\n",
            "Epoch  647/2000 Cost: 0.000201\n",
            "Epoch  648/2000 Cost: 0.000200\n",
            "Epoch  649/2000 Cost: 0.000199\n",
            "Epoch  650/2000 Cost: 0.000198\n",
            "Epoch  651/2000 Cost: 0.000197\n",
            "Epoch  652/2000 Cost: 0.000196\n",
            "Epoch  653/2000 Cost: 0.000195\n",
            "Epoch  654/2000 Cost: 0.000194\n",
            "Epoch  655/2000 Cost: 0.000193\n",
            "Epoch  656/2000 Cost: 0.000192\n",
            "Epoch  657/2000 Cost: 0.000191\n",
            "Epoch  658/2000 Cost: 0.000190\n",
            "Epoch  659/2000 Cost: 0.000189\n",
            "Epoch  660/2000 Cost: 0.000188\n",
            "Epoch  661/2000 Cost: 0.000187\n",
            "Epoch  662/2000 Cost: 0.000187\n",
            "Epoch  663/2000 Cost: 0.000186\n",
            "Epoch  664/2000 Cost: 0.000185\n",
            "Epoch  665/2000 Cost: 0.000184\n",
            "Epoch  666/2000 Cost: 0.000183\n",
            "Epoch  667/2000 Cost: 0.000182\n",
            "Epoch  668/2000 Cost: 0.000181\n",
            "Epoch  669/2000 Cost: 0.000180\n",
            "Epoch  670/2000 Cost: 0.000180\n",
            "Epoch  671/2000 Cost: 0.000179\n",
            "Epoch  672/2000 Cost: 0.000178\n",
            "Epoch  673/2000 Cost: 0.000177\n",
            "Epoch  674/2000 Cost: 0.000176\n",
            "Epoch  675/2000 Cost: 0.000175\n",
            "Epoch  676/2000 Cost: 0.000174\n",
            "Epoch  677/2000 Cost: 0.000174\n",
            "Epoch  678/2000 Cost: 0.000173\n",
            "Epoch  679/2000 Cost: 0.000172\n",
            "Epoch  680/2000 Cost: 0.000171\n",
            "Epoch  681/2000 Cost: 0.000170\n",
            "Epoch  682/2000 Cost: 0.000169\n",
            "Epoch  683/2000 Cost: 0.000169\n",
            "Epoch  684/2000 Cost: 0.000168\n",
            "Epoch  685/2000 Cost: 0.000167\n",
            "Epoch  686/2000 Cost: 0.000166\n",
            "Epoch  687/2000 Cost: 0.000165\n",
            "Epoch  688/2000 Cost: 0.000165\n",
            "Epoch  689/2000 Cost: 0.000164\n",
            "Epoch  690/2000 Cost: 0.000163\n",
            "Epoch  691/2000 Cost: 0.000162\n",
            "Epoch  692/2000 Cost: 0.000161\n",
            "Epoch  693/2000 Cost: 0.000161\n",
            "Epoch  694/2000 Cost: 0.000160\n",
            "Epoch  695/2000 Cost: 0.000159\n",
            "Epoch  696/2000 Cost: 0.000158\n",
            "Epoch  697/2000 Cost: 0.000158\n",
            "Epoch  698/2000 Cost: 0.000157\n",
            "Epoch  699/2000 Cost: 0.000156\n",
            "Epoch  700/2000 Cost: 0.000155\n",
            "Epoch  701/2000 Cost: 0.000155\n",
            "Epoch  702/2000 Cost: 0.000154\n",
            "Epoch  703/2000 Cost: 0.000153\n",
            "Epoch  704/2000 Cost: 0.000152\n",
            "Epoch  705/2000 Cost: 0.000152\n",
            "Epoch  706/2000 Cost: 0.000151\n",
            "Epoch  707/2000 Cost: 0.000150\n",
            "Epoch  708/2000 Cost: 0.000149\n",
            "Epoch  709/2000 Cost: 0.000149\n",
            "Epoch  710/2000 Cost: 0.000148\n",
            "Epoch  711/2000 Cost: 0.000147\n",
            "Epoch  712/2000 Cost: 0.000147\n",
            "Epoch  713/2000 Cost: 0.000146\n",
            "Epoch  714/2000 Cost: 0.000145\n",
            "Epoch  715/2000 Cost: 0.000145\n",
            "Epoch  716/2000 Cost: 0.000144\n",
            "Epoch  717/2000 Cost: 0.000143\n",
            "Epoch  718/2000 Cost: 0.000142\n",
            "Epoch  719/2000 Cost: 0.000142\n",
            "Epoch  720/2000 Cost: 0.000141\n",
            "Epoch  721/2000 Cost: 0.000140\n",
            "Epoch  722/2000 Cost: 0.000140\n",
            "Epoch  723/2000 Cost: 0.000139\n",
            "Epoch  724/2000 Cost: 0.000138\n",
            "Epoch  725/2000 Cost: 0.000138\n",
            "Epoch  726/2000 Cost: 0.000137\n",
            "Epoch  727/2000 Cost: 0.000136\n",
            "Epoch  728/2000 Cost: 0.000136\n",
            "Epoch  729/2000 Cost: 0.000135\n",
            "Epoch  730/2000 Cost: 0.000134\n",
            "Epoch  731/2000 Cost: 0.000134\n",
            "Epoch  732/2000 Cost: 0.000133\n",
            "Epoch  733/2000 Cost: 0.000133\n",
            "Epoch  734/2000 Cost: 0.000132\n",
            "Epoch  735/2000 Cost: 0.000131\n",
            "Epoch  736/2000 Cost: 0.000131\n",
            "Epoch  737/2000 Cost: 0.000130\n",
            "Epoch  738/2000 Cost: 0.000129\n",
            "Epoch  739/2000 Cost: 0.000129\n",
            "Epoch  740/2000 Cost: 0.000128\n",
            "Epoch  741/2000 Cost: 0.000128\n",
            "Epoch  742/2000 Cost: 0.000127\n",
            "Epoch  743/2000 Cost: 0.000126\n",
            "Epoch  744/2000 Cost: 0.000126\n",
            "Epoch  745/2000 Cost: 0.000125\n",
            "Epoch  746/2000 Cost: 0.000125\n",
            "Epoch  747/2000 Cost: 0.000124\n",
            "Epoch  748/2000 Cost: 0.000123\n",
            "Epoch  749/2000 Cost: 0.000123\n",
            "Epoch  750/2000 Cost: 0.000122\n",
            "Epoch  751/2000 Cost: 0.000122\n",
            "Epoch  752/2000 Cost: 0.000121\n",
            "Epoch  753/2000 Cost: 0.000120\n",
            "Epoch  754/2000 Cost: 0.000120\n",
            "Epoch  755/2000 Cost: 0.000119\n",
            "Epoch  756/2000 Cost: 0.000119\n",
            "Epoch  757/2000 Cost: 0.000118\n",
            "Epoch  758/2000 Cost: 0.000118\n",
            "Epoch  759/2000 Cost: 0.000117\n",
            "Epoch  760/2000 Cost: 0.000116\n",
            "Epoch  761/2000 Cost: 0.000116\n",
            "Epoch  762/2000 Cost: 0.000115\n",
            "Epoch  763/2000 Cost: 0.000115\n",
            "Epoch  764/2000 Cost: 0.000114\n",
            "Epoch  765/2000 Cost: 0.000114\n",
            "Epoch  766/2000 Cost: 0.000113\n",
            "Epoch  767/2000 Cost: 0.000113\n",
            "Epoch  768/2000 Cost: 0.000112\n",
            "Epoch  769/2000 Cost: 0.000111\n",
            "Epoch  770/2000 Cost: 0.000111\n",
            "Epoch  771/2000 Cost: 0.000110\n",
            "Epoch  772/2000 Cost: 0.000110\n",
            "Epoch  773/2000 Cost: 0.000109\n",
            "Epoch  774/2000 Cost: 0.000109\n",
            "Epoch  775/2000 Cost: 0.000108\n",
            "Epoch  776/2000 Cost: 0.000108\n",
            "Epoch  777/2000 Cost: 0.000107\n",
            "Epoch  778/2000 Cost: 0.000107\n",
            "Epoch  779/2000 Cost: 0.000106\n",
            "Epoch  780/2000 Cost: 0.000106\n",
            "Epoch  781/2000 Cost: 0.000105\n",
            "Epoch  782/2000 Cost: 0.000105\n",
            "Epoch  783/2000 Cost: 0.000104\n",
            "Epoch  784/2000 Cost: 0.000104\n",
            "Epoch  785/2000 Cost: 0.000103\n",
            "Epoch  786/2000 Cost: 0.000103\n",
            "Epoch  787/2000 Cost: 0.000102\n",
            "Epoch  788/2000 Cost: 0.000102\n",
            "Epoch  789/2000 Cost: 0.000101\n",
            "Epoch  790/2000 Cost: 0.000101\n",
            "Epoch  791/2000 Cost: 0.000100\n",
            "Epoch  792/2000 Cost: 0.000100\n",
            "Epoch  793/2000 Cost: 0.000099\n",
            "Epoch  794/2000 Cost: 0.000099\n",
            "Epoch  795/2000 Cost: 0.000098\n",
            "Epoch  796/2000 Cost: 0.000098\n",
            "Epoch  797/2000 Cost: 0.000097\n",
            "Epoch  798/2000 Cost: 0.000097\n",
            "Epoch  799/2000 Cost: 0.000096\n",
            "Epoch  800/2000 Cost: 0.000096\n",
            "Epoch  801/2000 Cost: 0.000096\n",
            "Epoch  802/2000 Cost: 0.000095\n",
            "Epoch  803/2000 Cost: 0.000095\n",
            "Epoch  804/2000 Cost: 0.000094\n",
            "Epoch  805/2000 Cost: 0.000094\n",
            "Epoch  806/2000 Cost: 0.000093\n",
            "Epoch  807/2000 Cost: 0.000093\n",
            "Epoch  808/2000 Cost: 0.000092\n",
            "Epoch  809/2000 Cost: 0.000092\n",
            "Epoch  810/2000 Cost: 0.000091\n",
            "Epoch  811/2000 Cost: 0.000091\n",
            "Epoch  812/2000 Cost: 0.000091\n",
            "Epoch  813/2000 Cost: 0.000090\n",
            "Epoch  814/2000 Cost: 0.000090\n",
            "Epoch  815/2000 Cost: 0.000089\n",
            "Epoch  816/2000 Cost: 0.000089\n",
            "Epoch  817/2000 Cost: 0.000088\n",
            "Epoch  818/2000 Cost: 0.000088\n",
            "Epoch  819/2000 Cost: 0.000088\n",
            "Epoch  820/2000 Cost: 0.000087\n",
            "Epoch  821/2000 Cost: 0.000087\n",
            "Epoch  822/2000 Cost: 0.000086\n",
            "Epoch  823/2000 Cost: 0.000086\n",
            "Epoch  824/2000 Cost: 0.000086\n",
            "Epoch  825/2000 Cost: 0.000085\n",
            "Epoch  826/2000 Cost: 0.000085\n",
            "Epoch  827/2000 Cost: 0.000084\n",
            "Epoch  828/2000 Cost: 0.000084\n",
            "Epoch  829/2000 Cost: 0.000084\n",
            "Epoch  830/2000 Cost: 0.000083\n",
            "Epoch  831/2000 Cost: 0.000083\n",
            "Epoch  832/2000 Cost: 0.000082\n",
            "Epoch  833/2000 Cost: 0.000082\n",
            "Epoch  834/2000 Cost: 0.000082\n",
            "Epoch  835/2000 Cost: 0.000081\n",
            "Epoch  836/2000 Cost: 0.000081\n",
            "Epoch  837/2000 Cost: 0.000080\n",
            "Epoch  838/2000 Cost: 0.000080\n",
            "Epoch  839/2000 Cost: 0.000080\n",
            "Epoch  840/2000 Cost: 0.000079\n",
            "Epoch  841/2000 Cost: 0.000079\n",
            "Epoch  842/2000 Cost: 0.000078\n",
            "Epoch  843/2000 Cost: 0.000078\n",
            "Epoch  844/2000 Cost: 0.000078\n",
            "Epoch  845/2000 Cost: 0.000077\n",
            "Epoch  846/2000 Cost: 0.000077\n",
            "Epoch  847/2000 Cost: 0.000077\n",
            "Epoch  848/2000 Cost: 0.000076\n",
            "Epoch  849/2000 Cost: 0.000076\n",
            "Epoch  850/2000 Cost: 0.000075\n",
            "Epoch  851/2000 Cost: 0.000075\n",
            "Epoch  852/2000 Cost: 0.000075\n",
            "Epoch  853/2000 Cost: 0.000074\n",
            "Epoch  854/2000 Cost: 0.000074\n",
            "Epoch  855/2000 Cost: 0.000074\n",
            "Epoch  856/2000 Cost: 0.000073\n",
            "Epoch  857/2000 Cost: 0.000073\n",
            "Epoch  858/2000 Cost: 0.000073\n",
            "Epoch  859/2000 Cost: 0.000072\n",
            "Epoch  860/2000 Cost: 0.000072\n",
            "Epoch  861/2000 Cost: 0.000072\n",
            "Epoch  862/2000 Cost: 0.000071\n",
            "Epoch  863/2000 Cost: 0.000071\n",
            "Epoch  864/2000 Cost: 0.000071\n",
            "Epoch  865/2000 Cost: 0.000070\n",
            "Epoch  866/2000 Cost: 0.000070\n",
            "Epoch  867/2000 Cost: 0.000070\n",
            "Epoch  868/2000 Cost: 0.000069\n",
            "Epoch  869/2000 Cost: 0.000069\n",
            "Epoch  870/2000 Cost: 0.000069\n",
            "Epoch  871/2000 Cost: 0.000068\n",
            "Epoch  872/2000 Cost: 0.000068\n",
            "Epoch  873/2000 Cost: 0.000068\n",
            "Epoch  874/2000 Cost: 0.000067\n",
            "Epoch  875/2000 Cost: 0.000067\n",
            "Epoch  876/2000 Cost: 0.000067\n",
            "Epoch  877/2000 Cost: 0.000066\n",
            "Epoch  878/2000 Cost: 0.000066\n",
            "Epoch  879/2000 Cost: 0.000066\n",
            "Epoch  880/2000 Cost: 0.000065\n",
            "Epoch  881/2000 Cost: 0.000065\n",
            "Epoch  882/2000 Cost: 0.000065\n",
            "Epoch  883/2000 Cost: 0.000064\n",
            "Epoch  884/2000 Cost: 0.000064\n",
            "Epoch  885/2000 Cost: 0.000064\n",
            "Epoch  886/2000 Cost: 0.000063\n",
            "Epoch  887/2000 Cost: 0.000063\n",
            "Epoch  888/2000 Cost: 0.000063\n",
            "Epoch  889/2000 Cost: 0.000063\n",
            "Epoch  890/2000 Cost: 0.000062\n",
            "Epoch  891/2000 Cost: 0.000062\n",
            "Epoch  892/2000 Cost: 0.000062\n",
            "Epoch  893/2000 Cost: 0.000061\n",
            "Epoch  894/2000 Cost: 0.000061\n",
            "Epoch  895/2000 Cost: 0.000061\n",
            "Epoch  896/2000 Cost: 0.000060\n",
            "Epoch  897/2000 Cost: 0.000060\n",
            "Epoch  898/2000 Cost: 0.000060\n",
            "Epoch  899/2000 Cost: 0.000060\n",
            "Epoch  900/2000 Cost: 0.000059\n",
            "Epoch  901/2000 Cost: 0.000059\n",
            "Epoch  902/2000 Cost: 0.000059\n",
            "Epoch  903/2000 Cost: 0.000058\n",
            "Epoch  904/2000 Cost: 0.000058\n",
            "Epoch  905/2000 Cost: 0.000058\n",
            "Epoch  906/2000 Cost: 0.000058\n",
            "Epoch  907/2000 Cost: 0.000057\n",
            "Epoch  908/2000 Cost: 0.000057\n",
            "Epoch  909/2000 Cost: 0.000057\n",
            "Epoch  910/2000 Cost: 0.000057\n",
            "Epoch  911/2000 Cost: 0.000056\n",
            "Epoch  912/2000 Cost: 0.000056\n",
            "Epoch  913/2000 Cost: 0.000056\n",
            "Epoch  914/2000 Cost: 0.000055\n",
            "Epoch  915/2000 Cost: 0.000055\n",
            "Epoch  916/2000 Cost: 0.000055\n",
            "Epoch  917/2000 Cost: 0.000055\n",
            "Epoch  918/2000 Cost: 0.000054\n",
            "Epoch  919/2000 Cost: 0.000054\n",
            "Epoch  920/2000 Cost: 0.000054\n",
            "Epoch  921/2000 Cost: 0.000054\n",
            "Epoch  922/2000 Cost: 0.000053\n",
            "Epoch  923/2000 Cost: 0.000053\n",
            "Epoch  924/2000 Cost: 0.000053\n",
            "Epoch  925/2000 Cost: 0.000053\n",
            "Epoch  926/2000 Cost: 0.000052\n",
            "Epoch  927/2000 Cost: 0.000052\n",
            "Epoch  928/2000 Cost: 0.000052\n",
            "Epoch  929/2000 Cost: 0.000052\n",
            "Epoch  930/2000 Cost: 0.000051\n",
            "Epoch  931/2000 Cost: 0.000051\n",
            "Epoch  932/2000 Cost: 0.000051\n",
            "Epoch  933/2000 Cost: 0.000051\n",
            "Epoch  934/2000 Cost: 0.000050\n",
            "Epoch  935/2000 Cost: 0.000050\n",
            "Epoch  936/2000 Cost: 0.000050\n",
            "Epoch  937/2000 Cost: 0.000050\n",
            "Epoch  938/2000 Cost: 0.000049\n",
            "Epoch  939/2000 Cost: 0.000049\n",
            "Epoch  940/2000 Cost: 0.000049\n",
            "Epoch  941/2000 Cost: 0.000049\n",
            "Epoch  942/2000 Cost: 0.000048\n",
            "Epoch  943/2000 Cost: 0.000048\n",
            "Epoch  944/2000 Cost: 0.000048\n",
            "Epoch  945/2000 Cost: 0.000048\n",
            "Epoch  946/2000 Cost: 0.000048\n",
            "Epoch  947/2000 Cost: 0.000047\n",
            "Epoch  948/2000 Cost: 0.000047\n",
            "Epoch  949/2000 Cost: 0.000047\n",
            "Epoch  950/2000 Cost: 0.000047\n",
            "Epoch  951/2000 Cost: 0.000046\n",
            "Epoch  952/2000 Cost: 0.000046\n",
            "Epoch  953/2000 Cost: 0.000046\n",
            "Epoch  954/2000 Cost: 0.000046\n",
            "Epoch  955/2000 Cost: 0.000046\n",
            "Epoch  956/2000 Cost: 0.000045\n",
            "Epoch  957/2000 Cost: 0.000045\n",
            "Epoch  958/2000 Cost: 0.000045\n",
            "Epoch  959/2000 Cost: 0.000045\n",
            "Epoch  960/2000 Cost: 0.000044\n",
            "Epoch  961/2000 Cost: 0.000044\n",
            "Epoch  962/2000 Cost: 0.000044\n",
            "Epoch  963/2000 Cost: 0.000044\n",
            "Epoch  964/2000 Cost: 0.000044\n",
            "Epoch  965/2000 Cost: 0.000043\n",
            "Epoch  966/2000 Cost: 0.000043\n",
            "Epoch  967/2000 Cost: 0.000043\n",
            "Epoch  968/2000 Cost: 0.000043\n",
            "Epoch  969/2000 Cost: 0.000043\n",
            "Epoch  970/2000 Cost: 0.000042\n",
            "Epoch  971/2000 Cost: 0.000042\n",
            "Epoch  972/2000 Cost: 0.000042\n",
            "Epoch  973/2000 Cost: 0.000042\n",
            "Epoch  974/2000 Cost: 0.000042\n",
            "Epoch  975/2000 Cost: 0.000041\n",
            "Epoch  976/2000 Cost: 0.000041\n",
            "Epoch  977/2000 Cost: 0.000041\n",
            "Epoch  978/2000 Cost: 0.000041\n",
            "Epoch  979/2000 Cost: 0.000041\n",
            "Epoch  980/2000 Cost: 0.000040\n",
            "Epoch  981/2000 Cost: 0.000040\n",
            "Epoch  982/2000 Cost: 0.000040\n",
            "Epoch  983/2000 Cost: 0.000040\n",
            "Epoch  984/2000 Cost: 0.000040\n",
            "Epoch  985/2000 Cost: 0.000039\n",
            "Epoch  986/2000 Cost: 0.000039\n",
            "Epoch  987/2000 Cost: 0.000039\n",
            "Epoch  988/2000 Cost: 0.000039\n",
            "Epoch  989/2000 Cost: 0.000039\n",
            "Epoch  990/2000 Cost: 0.000038\n",
            "Epoch  991/2000 Cost: 0.000038\n",
            "Epoch  992/2000 Cost: 0.000038\n",
            "Epoch  993/2000 Cost: 0.000038\n",
            "Epoch  994/2000 Cost: 0.000038\n",
            "Epoch  995/2000 Cost: 0.000038\n",
            "Epoch  996/2000 Cost: 0.000037\n",
            "Epoch  997/2000 Cost: 0.000037\n",
            "Epoch  998/2000 Cost: 0.000037\n",
            "Epoch  999/2000 Cost: 0.000037\n",
            "Epoch 1000/2000 Cost: 0.000037\n",
            "Epoch 1001/2000 Cost: 0.000036\n",
            "Epoch 1002/2000 Cost: 0.000036\n",
            "Epoch 1003/2000 Cost: 0.000036\n",
            "Epoch 1004/2000 Cost: 0.000036\n",
            "Epoch 1005/2000 Cost: 0.000036\n",
            "Epoch 1006/2000 Cost: 0.000036\n",
            "Epoch 1007/2000 Cost: 0.000035\n",
            "Epoch 1008/2000 Cost: 0.000035\n",
            "Epoch 1009/2000 Cost: 0.000035\n",
            "Epoch 1010/2000 Cost: 0.000035\n",
            "Epoch 1011/2000 Cost: 0.000035\n",
            "Epoch 1012/2000 Cost: 0.000035\n",
            "Epoch 1013/2000 Cost: 0.000034\n",
            "Epoch 1014/2000 Cost: 0.000034\n",
            "Epoch 1015/2000 Cost: 0.000034\n",
            "Epoch 1016/2000 Cost: 0.000034\n",
            "Epoch 1017/2000 Cost: 0.000034\n",
            "Epoch 1018/2000 Cost: 0.000034\n",
            "Epoch 1019/2000 Cost: 0.000033\n",
            "Epoch 1020/2000 Cost: 0.000033\n",
            "Epoch 1021/2000 Cost: 0.000033\n",
            "Epoch 1022/2000 Cost: 0.000033\n",
            "Epoch 1023/2000 Cost: 0.000033\n",
            "Epoch 1024/2000 Cost: 0.000033\n",
            "Epoch 1025/2000 Cost: 0.000033\n",
            "Epoch 1026/2000 Cost: 0.000032\n",
            "Epoch 1027/2000 Cost: 0.000032\n",
            "Epoch 1028/2000 Cost: 0.000032\n",
            "Epoch 1029/2000 Cost: 0.000032\n",
            "Epoch 1030/2000 Cost: 0.000032\n",
            "Epoch 1031/2000 Cost: 0.000032\n",
            "Epoch 1032/2000 Cost: 0.000031\n",
            "Epoch 1033/2000 Cost: 0.000031\n",
            "Epoch 1034/2000 Cost: 0.000031\n",
            "Epoch 1035/2000 Cost: 0.000031\n",
            "Epoch 1036/2000 Cost: 0.000031\n",
            "Epoch 1037/2000 Cost: 0.000031\n",
            "Epoch 1038/2000 Cost: 0.000031\n",
            "Epoch 1039/2000 Cost: 0.000030\n",
            "Epoch 1040/2000 Cost: 0.000030\n",
            "Epoch 1041/2000 Cost: 0.000030\n",
            "Epoch 1042/2000 Cost: 0.000030\n",
            "Epoch 1043/2000 Cost: 0.000030\n",
            "Epoch 1044/2000 Cost: 0.000030\n",
            "Epoch 1045/2000 Cost: 0.000030\n",
            "Epoch 1046/2000 Cost: 0.000029\n",
            "Epoch 1047/2000 Cost: 0.000029\n",
            "Epoch 1048/2000 Cost: 0.000029\n",
            "Epoch 1049/2000 Cost: 0.000029\n",
            "Epoch 1050/2000 Cost: 0.000029\n",
            "Epoch 1051/2000 Cost: 0.000029\n",
            "Epoch 1052/2000 Cost: 0.000029\n",
            "Epoch 1053/2000 Cost: 0.000028\n",
            "Epoch 1054/2000 Cost: 0.000028\n",
            "Epoch 1055/2000 Cost: 0.000028\n",
            "Epoch 1056/2000 Cost: 0.000028\n",
            "Epoch 1057/2000 Cost: 0.000028\n",
            "Epoch 1058/2000 Cost: 0.000028\n",
            "Epoch 1059/2000 Cost: 0.000028\n",
            "Epoch 1060/2000 Cost: 0.000027\n",
            "Epoch 1061/2000 Cost: 0.000027\n",
            "Epoch 1062/2000 Cost: 0.000027\n",
            "Epoch 1063/2000 Cost: 0.000027\n",
            "Epoch 1064/2000 Cost: 0.000027\n",
            "Epoch 1065/2000 Cost: 0.000027\n",
            "Epoch 1066/2000 Cost: 0.000027\n",
            "Epoch 1067/2000 Cost: 0.000027\n",
            "Epoch 1068/2000 Cost: 0.000026\n",
            "Epoch 1069/2000 Cost: 0.000026\n",
            "Epoch 1070/2000 Cost: 0.000026\n",
            "Epoch 1071/2000 Cost: 0.000026\n",
            "Epoch 1072/2000 Cost: 0.000026\n",
            "Epoch 1073/2000 Cost: 0.000026\n",
            "Epoch 1074/2000 Cost: 0.000026\n",
            "Epoch 1075/2000 Cost: 0.000026\n",
            "Epoch 1076/2000 Cost: 0.000025\n",
            "Epoch 1077/2000 Cost: 0.000025\n",
            "Epoch 1078/2000 Cost: 0.000025\n",
            "Epoch 1079/2000 Cost: 0.000025\n",
            "Epoch 1080/2000 Cost: 0.000025\n",
            "Epoch 1081/2000 Cost: 0.000025\n",
            "Epoch 1082/2000 Cost: 0.000025\n",
            "Epoch 1083/2000 Cost: 0.000025\n",
            "Epoch 1084/2000 Cost: 0.000024\n",
            "Epoch 1085/2000 Cost: 0.000024\n",
            "Epoch 1086/2000 Cost: 0.000024\n",
            "Epoch 1087/2000 Cost: 0.000024\n",
            "Epoch 1088/2000 Cost: 0.000024\n",
            "Epoch 1089/2000 Cost: 0.000024\n",
            "Epoch 1090/2000 Cost: 0.000024\n",
            "Epoch 1091/2000 Cost: 0.000024\n",
            "Epoch 1092/2000 Cost: 0.000024\n",
            "Epoch 1093/2000 Cost: 0.000023\n",
            "Epoch 1094/2000 Cost: 0.000023\n",
            "Epoch 1095/2000 Cost: 0.000023\n",
            "Epoch 1096/2000 Cost: 0.000023\n",
            "Epoch 1097/2000 Cost: 0.000023\n",
            "Epoch 1098/2000 Cost: 0.000023\n",
            "Epoch 1099/2000 Cost: 0.000023\n",
            "Epoch 1100/2000 Cost: 0.000023\n",
            "Epoch 1101/2000 Cost: 0.000023\n",
            "Epoch 1102/2000 Cost: 0.000022\n",
            "Epoch 1103/2000 Cost: 0.000022\n",
            "Epoch 1104/2000 Cost: 0.000022\n",
            "Epoch 1105/2000 Cost: 0.000022\n",
            "Epoch 1106/2000 Cost: 0.000022\n",
            "Epoch 1107/2000 Cost: 0.000022\n",
            "Epoch 1108/2000 Cost: 0.000022\n",
            "Epoch 1109/2000 Cost: 0.000022\n",
            "Epoch 1110/2000 Cost: 0.000022\n",
            "Epoch 1111/2000 Cost: 0.000021\n",
            "Epoch 1112/2000 Cost: 0.000021\n",
            "Epoch 1113/2000 Cost: 0.000021\n",
            "Epoch 1114/2000 Cost: 0.000021\n",
            "Epoch 1115/2000 Cost: 0.000021\n",
            "Epoch 1116/2000 Cost: 0.000021\n",
            "Epoch 1117/2000 Cost: 0.000021\n",
            "Epoch 1118/2000 Cost: 0.000021\n",
            "Epoch 1119/2000 Cost: 0.000021\n",
            "Epoch 1120/2000 Cost: 0.000021\n",
            "Epoch 1121/2000 Cost: 0.000020\n",
            "Epoch 1122/2000 Cost: 0.000020\n",
            "Epoch 1123/2000 Cost: 0.000020\n",
            "Epoch 1124/2000 Cost: 0.000020\n",
            "Epoch 1125/2000 Cost: 0.000020\n",
            "Epoch 1126/2000 Cost: 0.000020\n",
            "Epoch 1127/2000 Cost: 0.000020\n",
            "Epoch 1128/2000 Cost: 0.000020\n",
            "Epoch 1129/2000 Cost: 0.000020\n",
            "Epoch 1130/2000 Cost: 0.000020\n",
            "Epoch 1131/2000 Cost: 0.000020\n",
            "Epoch 1132/2000 Cost: 0.000019\n",
            "Epoch 1133/2000 Cost: 0.000019\n",
            "Epoch 1134/2000 Cost: 0.000019\n",
            "Epoch 1135/2000 Cost: 0.000019\n",
            "Epoch 1136/2000 Cost: 0.000019\n",
            "Epoch 1137/2000 Cost: 0.000019\n",
            "Epoch 1138/2000 Cost: 0.000019\n",
            "Epoch 1139/2000 Cost: 0.000019\n",
            "Epoch 1140/2000 Cost: 0.000019\n",
            "Epoch 1141/2000 Cost: 0.000019\n",
            "Epoch 1142/2000 Cost: 0.000019\n",
            "Epoch 1143/2000 Cost: 0.000018\n",
            "Epoch 1144/2000 Cost: 0.000018\n",
            "Epoch 1145/2000 Cost: 0.000018\n",
            "Epoch 1146/2000 Cost: 0.000018\n",
            "Epoch 1147/2000 Cost: 0.000018\n",
            "Epoch 1148/2000 Cost: 0.000018\n",
            "Epoch 1149/2000 Cost: 0.000018\n",
            "Epoch 1150/2000 Cost: 0.000018\n",
            "Epoch 1151/2000 Cost: 0.000018\n",
            "Epoch 1152/2000 Cost: 0.000018\n",
            "Epoch 1153/2000 Cost: 0.000018\n",
            "Epoch 1154/2000 Cost: 0.000017\n",
            "Epoch 1155/2000 Cost: 0.000017\n",
            "Epoch 1156/2000 Cost: 0.000017\n",
            "Epoch 1157/2000 Cost: 0.000017\n",
            "Epoch 1158/2000 Cost: 0.000017\n",
            "Epoch 1159/2000 Cost: 0.000017\n",
            "Epoch 1160/2000 Cost: 0.000017\n",
            "Epoch 1161/2000 Cost: 0.000017\n",
            "Epoch 1162/2000 Cost: 0.000017\n",
            "Epoch 1163/2000 Cost: 0.000017\n",
            "Epoch 1164/2000 Cost: 0.000017\n",
            "Epoch 1165/2000 Cost: 0.000017\n",
            "Epoch 1166/2000 Cost: 0.000016\n",
            "Epoch 1167/2000 Cost: 0.000016\n",
            "Epoch 1168/2000 Cost: 0.000016\n",
            "Epoch 1169/2000 Cost: 0.000016\n",
            "Epoch 1170/2000 Cost: 0.000016\n",
            "Epoch 1171/2000 Cost: 0.000016\n",
            "Epoch 1172/2000 Cost: 0.000016\n",
            "Epoch 1173/2000 Cost: 0.000016\n",
            "Epoch 1174/2000 Cost: 0.000016\n",
            "Epoch 1175/2000 Cost: 0.000016\n",
            "Epoch 1176/2000 Cost: 0.000016\n",
            "Epoch 1177/2000 Cost: 0.000016\n",
            "Epoch 1178/2000 Cost: 0.000016\n",
            "Epoch 1179/2000 Cost: 0.000015\n",
            "Epoch 1180/2000 Cost: 0.000015\n",
            "Epoch 1181/2000 Cost: 0.000015\n",
            "Epoch 1182/2000 Cost: 0.000015\n",
            "Epoch 1183/2000 Cost: 0.000015\n",
            "Epoch 1184/2000 Cost: 0.000015\n",
            "Epoch 1185/2000 Cost: 0.000015\n",
            "Epoch 1186/2000 Cost: 0.000015\n",
            "Epoch 1187/2000 Cost: 0.000015\n",
            "Epoch 1188/2000 Cost: 0.000015\n",
            "Epoch 1189/2000 Cost: 0.000015\n",
            "Epoch 1190/2000 Cost: 0.000015\n",
            "Epoch 1191/2000 Cost: 0.000015\n",
            "Epoch 1192/2000 Cost: 0.000015\n",
            "Epoch 1193/2000 Cost: 0.000014\n",
            "Epoch 1194/2000 Cost: 0.000014\n",
            "Epoch 1195/2000 Cost: 0.000014\n",
            "Epoch 1196/2000 Cost: 0.000014\n",
            "Epoch 1197/2000 Cost: 0.000014\n",
            "Epoch 1198/2000 Cost: 0.000014\n",
            "Epoch 1199/2000 Cost: 0.000014\n",
            "Epoch 1200/2000 Cost: 0.000014\n",
            "Epoch 1201/2000 Cost: 0.000014\n",
            "Epoch 1202/2000 Cost: 0.000014\n",
            "Epoch 1203/2000 Cost: 0.000014\n",
            "Epoch 1204/2000 Cost: 0.000014\n",
            "Epoch 1205/2000 Cost: 0.000014\n",
            "Epoch 1206/2000 Cost: 0.000014\n",
            "Epoch 1207/2000 Cost: 0.000014\n",
            "Epoch 1208/2000 Cost: 0.000013\n",
            "Epoch 1209/2000 Cost: 0.000013\n",
            "Epoch 1210/2000 Cost: 0.000013\n",
            "Epoch 1211/2000 Cost: 0.000013\n",
            "Epoch 1212/2000 Cost: 0.000013\n",
            "Epoch 1213/2000 Cost: 0.000013\n",
            "Epoch 1214/2000 Cost: 0.000013\n",
            "Epoch 1215/2000 Cost: 0.000013\n",
            "Epoch 1216/2000 Cost: 0.000013\n",
            "Epoch 1217/2000 Cost: 0.000013\n",
            "Epoch 1218/2000 Cost: 0.000013\n",
            "Epoch 1219/2000 Cost: 0.000013\n",
            "Epoch 1220/2000 Cost: 0.000013\n",
            "Epoch 1221/2000 Cost: 0.000013\n",
            "Epoch 1222/2000 Cost: 0.000013\n",
            "Epoch 1223/2000 Cost: 0.000013\n",
            "Epoch 1224/2000 Cost: 0.000012\n",
            "Epoch 1225/2000 Cost: 0.000012\n",
            "Epoch 1226/2000 Cost: 0.000012\n",
            "Epoch 1227/2000 Cost: 0.000012\n",
            "Epoch 1228/2000 Cost: 0.000012\n",
            "Epoch 1229/2000 Cost: 0.000012\n",
            "Epoch 1230/2000 Cost: 0.000012\n",
            "Epoch 1231/2000 Cost: 0.000012\n",
            "Epoch 1232/2000 Cost: 0.000012\n",
            "Epoch 1233/2000 Cost: 0.000012\n",
            "Epoch 1234/2000 Cost: 0.000012\n",
            "Epoch 1235/2000 Cost: 0.000012\n",
            "Epoch 1236/2000 Cost: 0.000012\n",
            "Epoch 1237/2000 Cost: 0.000012\n",
            "Epoch 1238/2000 Cost: 0.000012\n",
            "Epoch 1239/2000 Cost: 0.000012\n",
            "Epoch 1240/2000 Cost: 0.000012\n",
            "Epoch 1241/2000 Cost: 0.000011\n",
            "Epoch 1242/2000 Cost: 0.000011\n",
            "Epoch 1243/2000 Cost: 0.000011\n",
            "Epoch 1244/2000 Cost: 0.000011\n",
            "Epoch 1245/2000 Cost: 0.000011\n",
            "Epoch 1246/2000 Cost: 0.000011\n",
            "Epoch 1247/2000 Cost: 0.000011\n",
            "Epoch 1248/2000 Cost: 0.000011\n",
            "Epoch 1249/2000 Cost: 0.000011\n",
            "Epoch 1250/2000 Cost: 0.000011\n",
            "Epoch 1251/2000 Cost: 0.000011\n",
            "Epoch 1252/2000 Cost: 0.000011\n",
            "Epoch 1253/2000 Cost: 0.000011\n",
            "Epoch 1254/2000 Cost: 0.000011\n",
            "Epoch 1255/2000 Cost: 0.000011\n",
            "Epoch 1256/2000 Cost: 0.000011\n",
            "Epoch 1257/2000 Cost: 0.000011\n",
            "Epoch 1258/2000 Cost: 0.000011\n",
            "Epoch 1259/2000 Cost: 0.000011\n",
            "Epoch 1260/2000 Cost: 0.000010\n",
            "Epoch 1261/2000 Cost: 0.000010\n",
            "Epoch 1262/2000 Cost: 0.000010\n",
            "Epoch 1263/2000 Cost: 0.000010\n",
            "Epoch 1264/2000 Cost: 0.000010\n",
            "Epoch 1265/2000 Cost: 0.000010\n",
            "Epoch 1266/2000 Cost: 0.000010\n",
            "Epoch 1267/2000 Cost: 0.000010\n",
            "Epoch 1268/2000 Cost: 0.000010\n",
            "Epoch 1269/2000 Cost: 0.000010\n",
            "Epoch 1270/2000 Cost: 0.000010\n",
            "Epoch 1271/2000 Cost: 0.000010\n",
            "Epoch 1272/2000 Cost: 0.000010\n",
            "Epoch 1273/2000 Cost: 0.000010\n",
            "Epoch 1274/2000 Cost: 0.000010\n",
            "Epoch 1275/2000 Cost: 0.000010\n",
            "Epoch 1276/2000 Cost: 0.000010\n",
            "Epoch 1277/2000 Cost: 0.000010\n",
            "Epoch 1278/2000 Cost: 0.000010\n",
            "Epoch 1279/2000 Cost: 0.000010\n",
            "Epoch 1280/2000 Cost: 0.000010\n",
            "Epoch 1281/2000 Cost: 0.000009\n",
            "Epoch 1282/2000 Cost: 0.000009\n",
            "Epoch 1283/2000 Cost: 0.000009\n",
            "Epoch 1284/2000 Cost: 0.000009\n",
            "Epoch 1285/2000 Cost: 0.000009\n",
            "Epoch 1286/2000 Cost: 0.000009\n",
            "Epoch 1287/2000 Cost: 0.000009\n",
            "Epoch 1288/2000 Cost: 0.000009\n",
            "Epoch 1289/2000 Cost: 0.000009\n",
            "Epoch 1290/2000 Cost: 0.000009\n",
            "Epoch 1291/2000 Cost: 0.000009\n",
            "Epoch 1292/2000 Cost: 0.000009\n",
            "Epoch 1293/2000 Cost: 0.000009\n",
            "Epoch 1294/2000 Cost: 0.000009\n",
            "Epoch 1295/2000 Cost: 0.000009\n",
            "Epoch 1296/2000 Cost: 0.000009\n",
            "Epoch 1297/2000 Cost: 0.000009\n",
            "Epoch 1298/2000 Cost: 0.000009\n",
            "Epoch 1299/2000 Cost: 0.000009\n",
            "Epoch 1300/2000 Cost: 0.000009\n",
            "Epoch 1301/2000 Cost: 0.000009\n",
            "Epoch 1302/2000 Cost: 0.000009\n",
            "Epoch 1303/2000 Cost: 0.000009\n",
            "Epoch 1304/2000 Cost: 0.000008\n",
            "Epoch 1305/2000 Cost: 0.000008\n",
            "Epoch 1306/2000 Cost: 0.000008\n",
            "Epoch 1307/2000 Cost: 0.000008\n",
            "Epoch 1308/2000 Cost: 0.000008\n",
            "Epoch 1309/2000 Cost: 0.000008\n",
            "Epoch 1310/2000 Cost: 0.000008\n",
            "Epoch 1311/2000 Cost: 0.000008\n",
            "Epoch 1312/2000 Cost: 0.000008\n",
            "Epoch 1313/2000 Cost: 0.000008\n",
            "Epoch 1314/2000 Cost: 0.000008\n",
            "Epoch 1315/2000 Cost: 0.000008\n",
            "Epoch 1316/2000 Cost: 0.000008\n",
            "Epoch 1317/2000 Cost: 0.000008\n",
            "Epoch 1318/2000 Cost: 0.000008\n",
            "Epoch 1319/2000 Cost: 0.000008\n",
            "Epoch 1320/2000 Cost: 0.000008\n",
            "Epoch 1321/2000 Cost: 0.000008\n",
            "Epoch 1322/2000 Cost: 0.000008\n",
            "Epoch 1323/2000 Cost: 0.000008\n",
            "Epoch 1324/2000 Cost: 0.000008\n",
            "Epoch 1325/2000 Cost: 0.000008\n",
            "Epoch 1326/2000 Cost: 0.000008\n",
            "Epoch 1327/2000 Cost: 0.000008\n",
            "Epoch 1328/2000 Cost: 0.000008\n",
            "Epoch 1329/2000 Cost: 0.000008\n",
            "Epoch 1330/2000 Cost: 0.000007\n",
            "Epoch 1331/2000 Cost: 0.000007\n",
            "Epoch 1332/2000 Cost: 0.000007\n",
            "Epoch 1333/2000 Cost: 0.000007\n",
            "Epoch 1334/2000 Cost: 0.000007\n",
            "Epoch 1335/2000 Cost: 0.000007\n",
            "Epoch 1336/2000 Cost: 0.000007\n",
            "Epoch 1337/2000 Cost: 0.000007\n",
            "Epoch 1338/2000 Cost: 0.000007\n",
            "Epoch 1339/2000 Cost: 0.000007\n",
            "Epoch 1340/2000 Cost: 0.000007\n",
            "Epoch 1341/2000 Cost: 0.000007\n",
            "Epoch 1342/2000 Cost: 0.000007\n",
            "Epoch 1343/2000 Cost: 0.000007\n",
            "Epoch 1344/2000 Cost: 0.000007\n",
            "Epoch 1345/2000 Cost: 0.000007\n",
            "Epoch 1346/2000 Cost: 0.000007\n",
            "Epoch 1347/2000 Cost: 0.000007\n",
            "Epoch 1348/2000 Cost: 0.000007\n",
            "Epoch 1349/2000 Cost: 0.000007\n",
            "Epoch 1350/2000 Cost: 0.000007\n",
            "Epoch 1351/2000 Cost: 0.000007\n",
            "Epoch 1352/2000 Cost: 0.000007\n",
            "Epoch 1353/2000 Cost: 0.000007\n",
            "Epoch 1354/2000 Cost: 0.000007\n",
            "Epoch 1355/2000 Cost: 0.000007\n",
            "Epoch 1356/2000 Cost: 0.000007\n",
            "Epoch 1357/2000 Cost: 0.000007\n",
            "Epoch 1358/2000 Cost: 0.000007\n",
            "Epoch 1359/2000 Cost: 0.000007\n",
            "Epoch 1360/2000 Cost: 0.000006\n",
            "Epoch 1361/2000 Cost: 0.000006\n",
            "Epoch 1362/2000 Cost: 0.000006\n",
            "Epoch 1363/2000 Cost: 0.000006\n",
            "Epoch 1364/2000 Cost: 0.000006\n",
            "Epoch 1365/2000 Cost: 0.000006\n",
            "Epoch 1366/2000 Cost: 0.000006\n",
            "Epoch 1367/2000 Cost: 0.000006\n",
            "Epoch 1368/2000 Cost: 0.000006\n",
            "Epoch 1369/2000 Cost: 0.000006\n",
            "Epoch 1370/2000 Cost: 0.000006\n",
            "Epoch 1371/2000 Cost: 0.000006\n",
            "Epoch 1372/2000 Cost: 0.000006\n",
            "Epoch 1373/2000 Cost: 0.000006\n",
            "Epoch 1374/2000 Cost: 0.000006\n",
            "Epoch 1375/2000 Cost: 0.000006\n",
            "Epoch 1376/2000 Cost: 0.000006\n",
            "Epoch 1377/2000 Cost: 0.000006\n",
            "Epoch 1378/2000 Cost: 0.000006\n",
            "Epoch 1379/2000 Cost: 0.000006\n",
            "Epoch 1380/2000 Cost: 0.000006\n",
            "Epoch 1381/2000 Cost: 0.000006\n",
            "Epoch 1382/2000 Cost: 0.000006\n",
            "Epoch 1383/2000 Cost: 0.000006\n",
            "Epoch 1384/2000 Cost: 0.000006\n",
            "Epoch 1385/2000 Cost: 0.000006\n",
            "Epoch 1386/2000 Cost: 0.000006\n",
            "Epoch 1387/2000 Cost: 0.000006\n",
            "Epoch 1388/2000 Cost: 0.000006\n",
            "Epoch 1389/2000 Cost: 0.000006\n",
            "Epoch 1390/2000 Cost: 0.000006\n",
            "Epoch 1391/2000 Cost: 0.000006\n",
            "Epoch 1392/2000 Cost: 0.000006\n",
            "Epoch 1393/2000 Cost: 0.000006\n",
            "Epoch 1394/2000 Cost: 0.000006\n",
            "Epoch 1395/2000 Cost: 0.000005\n",
            "Epoch 1396/2000 Cost: 0.000005\n",
            "Epoch 1397/2000 Cost: 0.000005\n",
            "Epoch 1398/2000 Cost: 0.000005\n",
            "Epoch 1399/2000 Cost: 0.000005\n",
            "Epoch 1400/2000 Cost: 0.000005\n",
            "Epoch 1401/2000 Cost: 0.000005\n",
            "Epoch 1402/2000 Cost: 0.000005\n",
            "Epoch 1403/2000 Cost: 0.000005\n",
            "Epoch 1404/2000 Cost: 0.000005\n",
            "Epoch 1405/2000 Cost: 0.000005\n",
            "Epoch 1406/2000 Cost: 0.000005\n",
            "Epoch 1407/2000 Cost: 0.000005\n",
            "Epoch 1408/2000 Cost: 0.000005\n",
            "Epoch 1409/2000 Cost: 0.000005\n",
            "Epoch 1410/2000 Cost: 0.000005\n",
            "Epoch 1411/2000 Cost: 0.000005\n",
            "Epoch 1412/2000 Cost: 0.000005\n",
            "Epoch 1413/2000 Cost: 0.000005\n",
            "Epoch 1414/2000 Cost: 0.000005\n",
            "Epoch 1415/2000 Cost: 0.000005\n",
            "Epoch 1416/2000 Cost: 0.000005\n",
            "Epoch 1417/2000 Cost: 0.000005\n",
            "Epoch 1418/2000 Cost: 0.000005\n",
            "Epoch 1419/2000 Cost: 0.000005\n",
            "Epoch 1420/2000 Cost: 0.000005\n",
            "Epoch 1421/2000 Cost: 0.000005\n",
            "Epoch 1422/2000 Cost: 0.000005\n",
            "Epoch 1423/2000 Cost: 0.000005\n",
            "Epoch 1424/2000 Cost: 0.000005\n",
            "Epoch 1425/2000 Cost: 0.000005\n",
            "Epoch 1426/2000 Cost: 0.000005\n",
            "Epoch 1427/2000 Cost: 0.000005\n",
            "Epoch 1428/2000 Cost: 0.000005\n",
            "Epoch 1429/2000 Cost: 0.000005\n",
            "Epoch 1430/2000 Cost: 0.000005\n",
            "Epoch 1431/2000 Cost: 0.000005\n",
            "Epoch 1432/2000 Cost: 0.000005\n",
            "Epoch 1433/2000 Cost: 0.000005\n",
            "Epoch 1434/2000 Cost: 0.000005\n",
            "Epoch 1435/2000 Cost: 0.000005\n",
            "Epoch 1436/2000 Cost: 0.000004\n",
            "Epoch 1437/2000 Cost: 0.000004\n",
            "Epoch 1438/2000 Cost: 0.000004\n",
            "Epoch 1439/2000 Cost: 0.000004\n",
            "Epoch 1440/2000 Cost: 0.000004\n",
            "Epoch 1441/2000 Cost: 0.000004\n",
            "Epoch 1442/2000 Cost: 0.000004\n",
            "Epoch 1443/2000 Cost: 0.000004\n",
            "Epoch 1444/2000 Cost: 0.000004\n",
            "Epoch 1445/2000 Cost: 0.000004\n",
            "Epoch 1446/2000 Cost: 0.000004\n",
            "Epoch 1447/2000 Cost: 0.000004\n",
            "Epoch 1448/2000 Cost: 0.000004\n",
            "Epoch 1449/2000 Cost: 0.000004\n",
            "Epoch 1450/2000 Cost: 0.000004\n",
            "Epoch 1451/2000 Cost: 0.000004\n",
            "Epoch 1452/2000 Cost: 0.000004\n",
            "Epoch 1453/2000 Cost: 0.000004\n",
            "Epoch 1454/2000 Cost: 0.000004\n",
            "Epoch 1455/2000 Cost: 0.000004\n",
            "Epoch 1456/2000 Cost: 0.000004\n",
            "Epoch 1457/2000 Cost: 0.000004\n",
            "Epoch 1458/2000 Cost: 0.000004\n",
            "Epoch 1459/2000 Cost: 0.000004\n",
            "Epoch 1460/2000 Cost: 0.000004\n",
            "Epoch 1461/2000 Cost: 0.000004\n",
            "Epoch 1462/2000 Cost: 0.000004\n",
            "Epoch 1463/2000 Cost: 0.000004\n",
            "Epoch 1464/2000 Cost: 0.000004\n",
            "Epoch 1465/2000 Cost: 0.000004\n",
            "Epoch 1466/2000 Cost: 0.000004\n",
            "Epoch 1467/2000 Cost: 0.000004\n",
            "Epoch 1468/2000 Cost: 0.000004\n",
            "Epoch 1469/2000 Cost: 0.000004\n",
            "Epoch 1470/2000 Cost: 0.000004\n",
            "Epoch 1471/2000 Cost: 0.000004\n",
            "Epoch 1472/2000 Cost: 0.000004\n",
            "Epoch 1473/2000 Cost: 0.000004\n",
            "Epoch 1474/2000 Cost: 0.000004\n",
            "Epoch 1475/2000 Cost: 0.000004\n",
            "Epoch 1476/2000 Cost: 0.000004\n",
            "Epoch 1477/2000 Cost: 0.000004\n",
            "Epoch 1478/2000 Cost: 0.000004\n",
            "Epoch 1479/2000 Cost: 0.000004\n",
            "Epoch 1480/2000 Cost: 0.000004\n",
            "Epoch 1481/2000 Cost: 0.000004\n",
            "Epoch 1482/2000 Cost: 0.000004\n",
            "Epoch 1483/2000 Cost: 0.000004\n",
            "Epoch 1484/2000 Cost: 0.000004\n",
            "Epoch 1485/2000 Cost: 0.000004\n",
            "Epoch 1486/2000 Cost: 0.000004\n",
            "Epoch 1487/2000 Cost: 0.000004\n",
            "Epoch 1488/2000 Cost: 0.000003\n",
            "Epoch 1489/2000 Cost: 0.000003\n",
            "Epoch 1490/2000 Cost: 0.000003\n",
            "Epoch 1491/2000 Cost: 0.000003\n",
            "Epoch 1492/2000 Cost: 0.000003\n",
            "Epoch 1493/2000 Cost: 0.000003\n",
            "Epoch 1494/2000 Cost: 0.000003\n",
            "Epoch 1495/2000 Cost: 0.000003\n",
            "Epoch 1496/2000 Cost: 0.000003\n",
            "Epoch 1497/2000 Cost: 0.000003\n",
            "Epoch 1498/2000 Cost: 0.000003\n",
            "Epoch 1499/2000 Cost: 0.000003\n",
            "Epoch 1500/2000 Cost: 0.000003\n",
            "Epoch 1501/2000 Cost: 0.000003\n",
            "Epoch 1502/2000 Cost: 0.000003\n",
            "Epoch 1503/2000 Cost: 0.000003\n",
            "Epoch 1504/2000 Cost: 0.000003\n",
            "Epoch 1505/2000 Cost: 0.000003\n",
            "Epoch 1506/2000 Cost: 0.000003\n",
            "Epoch 1507/2000 Cost: 0.000003\n",
            "Epoch 1508/2000 Cost: 0.000003\n",
            "Epoch 1509/2000 Cost: 0.000003\n",
            "Epoch 1510/2000 Cost: 0.000003\n",
            "Epoch 1511/2000 Cost: 0.000003\n",
            "Epoch 1512/2000 Cost: 0.000003\n",
            "Epoch 1513/2000 Cost: 0.000003\n",
            "Epoch 1514/2000 Cost: 0.000003\n",
            "Epoch 1515/2000 Cost: 0.000003\n",
            "Epoch 1516/2000 Cost: 0.000003\n",
            "Epoch 1517/2000 Cost: 0.000003\n",
            "Epoch 1518/2000 Cost: 0.000003\n",
            "Epoch 1519/2000 Cost: 0.000003\n",
            "Epoch 1520/2000 Cost: 0.000003\n",
            "Epoch 1521/2000 Cost: 0.000003\n",
            "Epoch 1522/2000 Cost: 0.000003\n",
            "Epoch 1523/2000 Cost: 0.000003\n",
            "Epoch 1524/2000 Cost: 0.000003\n",
            "Epoch 1525/2000 Cost: 0.000003\n",
            "Epoch 1526/2000 Cost: 0.000003\n",
            "Epoch 1527/2000 Cost: 0.000003\n",
            "Epoch 1528/2000 Cost: 0.000003\n",
            "Epoch 1529/2000 Cost: 0.000003\n",
            "Epoch 1530/2000 Cost: 0.000003\n",
            "Epoch 1531/2000 Cost: 0.000003\n",
            "Epoch 1532/2000 Cost: 0.000003\n",
            "Epoch 1533/2000 Cost: 0.000003\n",
            "Epoch 1534/2000 Cost: 0.000003\n",
            "Epoch 1535/2000 Cost: 0.000003\n",
            "Epoch 1536/2000 Cost: 0.000003\n",
            "Epoch 1537/2000 Cost: 0.000003\n",
            "Epoch 1538/2000 Cost: 0.000003\n",
            "Epoch 1539/2000 Cost: 0.000003\n",
            "Epoch 1540/2000 Cost: 0.000003\n",
            "Epoch 1541/2000 Cost: 0.000003\n",
            "Epoch 1542/2000 Cost: 0.000003\n",
            "Epoch 1543/2000 Cost: 0.000003\n",
            "Epoch 1544/2000 Cost: 0.000003\n",
            "Epoch 1545/2000 Cost: 0.000003\n",
            "Epoch 1546/2000 Cost: 0.000003\n",
            "Epoch 1547/2000 Cost: 0.000003\n",
            "Epoch 1548/2000 Cost: 0.000003\n",
            "Epoch 1549/2000 Cost: 0.000003\n",
            "Epoch 1550/2000 Cost: 0.000003\n",
            "Epoch 1551/2000 Cost: 0.000003\n",
            "Epoch 1552/2000 Cost: 0.000003\n",
            "Epoch 1553/2000 Cost: 0.000003\n",
            "Epoch 1554/2000 Cost: 0.000003\n",
            "Epoch 1555/2000 Cost: 0.000003\n",
            "Epoch 1556/2000 Cost: 0.000003\n",
            "Epoch 1557/2000 Cost: 0.000003\n",
            "Epoch 1558/2000 Cost: 0.000002\n",
            "Epoch 1559/2000 Cost: 0.000002\n",
            "Epoch 1560/2000 Cost: 0.000002\n",
            "Epoch 1561/2000 Cost: 0.000002\n",
            "Epoch 1562/2000 Cost: 0.000002\n",
            "Epoch 1563/2000 Cost: 0.000002\n",
            "Epoch 1564/2000 Cost: 0.000002\n",
            "Epoch 1565/2000 Cost: 0.000002\n",
            "Epoch 1566/2000 Cost: 0.000002\n",
            "Epoch 1567/2000 Cost: 0.000002\n",
            "Epoch 1568/2000 Cost: 0.000002\n",
            "Epoch 1569/2000 Cost: 0.000002\n",
            "Epoch 1570/2000 Cost: 0.000002\n",
            "Epoch 1571/2000 Cost: 0.000002\n",
            "Epoch 1572/2000 Cost: 0.000002\n",
            "Epoch 1573/2000 Cost: 0.000002\n",
            "Epoch 1574/2000 Cost: 0.000002\n",
            "Epoch 1575/2000 Cost: 0.000002\n",
            "Epoch 1576/2000 Cost: 0.000002\n",
            "Epoch 1577/2000 Cost: 0.000002\n",
            "Epoch 1578/2000 Cost: 0.000002\n",
            "Epoch 1579/2000 Cost: 0.000002\n",
            "Epoch 1580/2000 Cost: 0.000002\n",
            "Epoch 1581/2000 Cost: 0.000002\n",
            "Epoch 1582/2000 Cost: 0.000002\n",
            "Epoch 1583/2000 Cost: 0.000002\n",
            "Epoch 1584/2000 Cost: 0.000002\n",
            "Epoch 1585/2000 Cost: 0.000002\n",
            "Epoch 1586/2000 Cost: 0.000002\n",
            "Epoch 1587/2000 Cost: 0.000002\n",
            "Epoch 1588/2000 Cost: 0.000002\n",
            "Epoch 1589/2000 Cost: 0.000002\n",
            "Epoch 1590/2000 Cost: 0.000002\n",
            "Epoch 1591/2000 Cost: 0.000002\n",
            "Epoch 1592/2000 Cost: 0.000002\n",
            "Epoch 1593/2000 Cost: 0.000002\n",
            "Epoch 1594/2000 Cost: 0.000002\n",
            "Epoch 1595/2000 Cost: 0.000002\n",
            "Epoch 1596/2000 Cost: 0.000002\n",
            "Epoch 1597/2000 Cost: 0.000002\n",
            "Epoch 1598/2000 Cost: 0.000002\n",
            "Epoch 1599/2000 Cost: 0.000002\n",
            "Epoch 1600/2000 Cost: 0.000002\n",
            "Epoch 1601/2000 Cost: 0.000002\n",
            "Epoch 1602/2000 Cost: 0.000002\n",
            "Epoch 1603/2000 Cost: 0.000002\n",
            "Epoch 1604/2000 Cost: 0.000002\n",
            "Epoch 1605/2000 Cost: 0.000002\n",
            "Epoch 1606/2000 Cost: 0.000002\n",
            "Epoch 1607/2000 Cost: 0.000002\n",
            "Epoch 1608/2000 Cost: 0.000002\n",
            "Epoch 1609/2000 Cost: 0.000002\n",
            "Epoch 1610/2000 Cost: 0.000002\n",
            "Epoch 1611/2000 Cost: 0.000002\n",
            "Epoch 1612/2000 Cost: 0.000002\n",
            "Epoch 1613/2000 Cost: 0.000002\n",
            "Epoch 1614/2000 Cost: 0.000002\n",
            "Epoch 1615/2000 Cost: 0.000002\n",
            "Epoch 1616/2000 Cost: 0.000002\n",
            "Epoch 1617/2000 Cost: 0.000002\n",
            "Epoch 1618/2000 Cost: 0.000002\n",
            "Epoch 1619/2000 Cost: 0.000002\n",
            "Epoch 1620/2000 Cost: 0.000002\n",
            "Epoch 1621/2000 Cost: 0.000002\n",
            "Epoch 1622/2000 Cost: 0.000002\n",
            "Epoch 1623/2000 Cost: 0.000002\n",
            "Epoch 1624/2000 Cost: 0.000002\n",
            "Epoch 1625/2000 Cost: 0.000002\n",
            "Epoch 1626/2000 Cost: 0.000002\n",
            "Epoch 1627/2000 Cost: 0.000002\n",
            "Epoch 1628/2000 Cost: 0.000002\n",
            "Epoch 1629/2000 Cost: 0.000002\n",
            "Epoch 1630/2000 Cost: 0.000002\n",
            "Epoch 1631/2000 Cost: 0.000002\n",
            "Epoch 1632/2000 Cost: 0.000002\n",
            "Epoch 1633/2000 Cost: 0.000002\n",
            "Epoch 1634/2000 Cost: 0.000002\n",
            "Epoch 1635/2000 Cost: 0.000002\n",
            "Epoch 1636/2000 Cost: 0.000002\n",
            "Epoch 1637/2000 Cost: 0.000002\n",
            "Epoch 1638/2000 Cost: 0.000002\n",
            "Epoch 1639/2000 Cost: 0.000002\n",
            "Epoch 1640/2000 Cost: 0.000002\n",
            "Epoch 1641/2000 Cost: 0.000002\n",
            "Epoch 1642/2000 Cost: 0.000002\n",
            "Epoch 1643/2000 Cost: 0.000002\n",
            "Epoch 1644/2000 Cost: 0.000002\n",
            "Epoch 1645/2000 Cost: 0.000002\n",
            "Epoch 1646/2000 Cost: 0.000002\n",
            "Epoch 1647/2000 Cost: 0.000002\n",
            "Epoch 1648/2000 Cost: 0.000002\n",
            "Epoch 1649/2000 Cost: 0.000002\n",
            "Epoch 1650/2000 Cost: 0.000002\n",
            "Epoch 1651/2000 Cost: 0.000002\n",
            "Epoch 1652/2000 Cost: 0.000002\n",
            "Epoch 1653/2000 Cost: 0.000002\n",
            "Epoch 1654/2000 Cost: 0.000002\n",
            "Epoch 1655/2000 Cost: 0.000002\n",
            "Epoch 1656/2000 Cost: 0.000002\n",
            "Epoch 1657/2000 Cost: 0.000002\n",
            "Epoch 1658/2000 Cost: 0.000002\n",
            "Epoch 1659/2000 Cost: 0.000002\n",
            "Epoch 1660/2000 Cost: 0.000002\n",
            "Epoch 1661/2000 Cost: 0.000002\n",
            "Epoch 1662/2000 Cost: 0.000002\n",
            "Epoch 1663/2000 Cost: 0.000002\n",
            "Epoch 1664/2000 Cost: 0.000002\n",
            "Epoch 1665/2000 Cost: 0.000001\n",
            "Epoch 1666/2000 Cost: 0.000001\n",
            "Epoch 1667/2000 Cost: 0.000001\n",
            "Epoch 1668/2000 Cost: 0.000001\n",
            "Epoch 1669/2000 Cost: 0.000001\n",
            "Epoch 1670/2000 Cost: 0.000001\n",
            "Epoch 1671/2000 Cost: 0.000001\n",
            "Epoch 1672/2000 Cost: 0.000001\n",
            "Epoch 1673/2000 Cost: 0.000001\n",
            "Epoch 1674/2000 Cost: 0.000001\n",
            "Epoch 1675/2000 Cost: 0.000001\n",
            "Epoch 1676/2000 Cost: 0.000001\n",
            "Epoch 1677/2000 Cost: 0.000001\n",
            "Epoch 1678/2000 Cost: 0.000001\n",
            "Epoch 1679/2000 Cost: 0.000001\n",
            "Epoch 1680/2000 Cost: 0.000001\n",
            "Epoch 1681/2000 Cost: 0.000001\n",
            "Epoch 1682/2000 Cost: 0.000001\n",
            "Epoch 1683/2000 Cost: 0.000001\n",
            "Epoch 1684/2000 Cost: 0.000001\n",
            "Epoch 1685/2000 Cost: 0.000001\n",
            "Epoch 1686/2000 Cost: 0.000001\n",
            "Epoch 1687/2000 Cost: 0.000001\n",
            "Epoch 1688/2000 Cost: 0.000001\n",
            "Epoch 1689/2000 Cost: 0.000001\n",
            "Epoch 1690/2000 Cost: 0.000001\n",
            "Epoch 1691/2000 Cost: 0.000001\n",
            "Epoch 1692/2000 Cost: 0.000001\n",
            "Epoch 1693/2000 Cost: 0.000001\n",
            "Epoch 1694/2000 Cost: 0.000001\n",
            "Epoch 1695/2000 Cost: 0.000001\n",
            "Epoch 1696/2000 Cost: 0.000001\n",
            "Epoch 1697/2000 Cost: 0.000001\n",
            "Epoch 1698/2000 Cost: 0.000001\n",
            "Epoch 1699/2000 Cost: 0.000001\n",
            "Epoch 1700/2000 Cost: 0.000001\n",
            "Epoch 1701/2000 Cost: 0.000001\n",
            "Epoch 1702/2000 Cost: 0.000001\n",
            "Epoch 1703/2000 Cost: 0.000001\n",
            "Epoch 1704/2000 Cost: 0.000001\n",
            "Epoch 1705/2000 Cost: 0.000001\n",
            "Epoch 1706/2000 Cost: 0.000001\n",
            "Epoch 1707/2000 Cost: 0.000001\n",
            "Epoch 1708/2000 Cost: 0.000001\n",
            "Epoch 1709/2000 Cost: 0.000001\n",
            "Epoch 1710/2000 Cost: 0.000001\n",
            "Epoch 1711/2000 Cost: 0.000001\n",
            "Epoch 1712/2000 Cost: 0.000001\n",
            "Epoch 1713/2000 Cost: 0.000001\n",
            "Epoch 1714/2000 Cost: 0.000001\n",
            "Epoch 1715/2000 Cost: 0.000001\n",
            "Epoch 1716/2000 Cost: 0.000001\n",
            "Epoch 1717/2000 Cost: 0.000001\n",
            "Epoch 1718/2000 Cost: 0.000001\n",
            "Epoch 1719/2000 Cost: 0.000001\n",
            "Epoch 1720/2000 Cost: 0.000001\n",
            "Epoch 1721/2000 Cost: 0.000001\n",
            "Epoch 1722/2000 Cost: 0.000001\n",
            "Epoch 1723/2000 Cost: 0.000001\n",
            "Epoch 1724/2000 Cost: 0.000001\n",
            "Epoch 1725/2000 Cost: 0.000001\n",
            "Epoch 1726/2000 Cost: 0.000001\n",
            "Epoch 1727/2000 Cost: 0.000001\n",
            "Epoch 1728/2000 Cost: 0.000001\n",
            "Epoch 1729/2000 Cost: 0.000001\n",
            "Epoch 1730/2000 Cost: 0.000001\n",
            "Epoch 1731/2000 Cost: 0.000001\n",
            "Epoch 1732/2000 Cost: 0.000001\n",
            "Epoch 1733/2000 Cost: 0.000001\n",
            "Epoch 1734/2000 Cost: 0.000001\n",
            "Epoch 1735/2000 Cost: 0.000001\n",
            "Epoch 1736/2000 Cost: 0.000001\n",
            "Epoch 1737/2000 Cost: 0.000001\n",
            "Epoch 1738/2000 Cost: 0.000001\n",
            "Epoch 1739/2000 Cost: 0.000001\n",
            "Epoch 1740/2000 Cost: 0.000001\n",
            "Epoch 1741/2000 Cost: 0.000001\n",
            "Epoch 1742/2000 Cost: 0.000001\n",
            "Epoch 1743/2000 Cost: 0.000001\n",
            "Epoch 1744/2000 Cost: 0.000001\n",
            "Epoch 1745/2000 Cost: 0.000001\n",
            "Epoch 1746/2000 Cost: 0.000001\n",
            "Epoch 1747/2000 Cost: 0.000001\n",
            "Epoch 1748/2000 Cost: 0.000001\n",
            "Epoch 1749/2000 Cost: 0.000001\n",
            "Epoch 1750/2000 Cost: 0.000001\n",
            "Epoch 1751/2000 Cost: 0.000001\n",
            "Epoch 1752/2000 Cost: 0.000001\n",
            "Epoch 1753/2000 Cost: 0.000001\n",
            "Epoch 1754/2000 Cost: 0.000001\n",
            "Epoch 1755/2000 Cost: 0.000001\n",
            "Epoch 1756/2000 Cost: 0.000001\n",
            "Epoch 1757/2000 Cost: 0.000001\n",
            "Epoch 1758/2000 Cost: 0.000001\n",
            "Epoch 1759/2000 Cost: 0.000001\n",
            "Epoch 1760/2000 Cost: 0.000001\n",
            "Epoch 1761/2000 Cost: 0.000001\n",
            "Epoch 1762/2000 Cost: 0.000001\n",
            "Epoch 1763/2000 Cost: 0.000001\n",
            "Epoch 1764/2000 Cost: 0.000001\n",
            "Epoch 1765/2000 Cost: 0.000001\n",
            "Epoch 1766/2000 Cost: 0.000001\n",
            "Epoch 1767/2000 Cost: 0.000001\n",
            "Epoch 1768/2000 Cost: 0.000001\n",
            "Epoch 1769/2000 Cost: 0.000001\n",
            "Epoch 1770/2000 Cost: 0.000001\n",
            "Epoch 1771/2000 Cost: 0.000001\n",
            "Epoch 1772/2000 Cost: 0.000001\n",
            "Epoch 1773/2000 Cost: 0.000001\n",
            "Epoch 1774/2000 Cost: 0.000001\n",
            "Epoch 1775/2000 Cost: 0.000001\n",
            "Epoch 1776/2000 Cost: 0.000001\n",
            "Epoch 1777/2000 Cost: 0.000001\n",
            "Epoch 1778/2000 Cost: 0.000001\n",
            "Epoch 1779/2000 Cost: 0.000001\n",
            "Epoch 1780/2000 Cost: 0.000001\n",
            "Epoch 1781/2000 Cost: 0.000001\n",
            "Epoch 1782/2000 Cost: 0.000001\n",
            "Epoch 1783/2000 Cost: 0.000001\n",
            "Epoch 1784/2000 Cost: 0.000001\n",
            "Epoch 1785/2000 Cost: 0.000001\n",
            "Epoch 1786/2000 Cost: 0.000001\n",
            "Epoch 1787/2000 Cost: 0.000001\n",
            "Epoch 1788/2000 Cost: 0.000001\n",
            "Epoch 1789/2000 Cost: 0.000001\n",
            "Epoch 1790/2000 Cost: 0.000001\n",
            "Epoch 1791/2000 Cost: 0.000001\n",
            "Epoch 1792/2000 Cost: 0.000001\n",
            "Epoch 1793/2000 Cost: 0.000001\n",
            "Epoch 1794/2000 Cost: 0.000001\n",
            "Epoch 1795/2000 Cost: 0.000001\n",
            "Epoch 1796/2000 Cost: 0.000001\n",
            "Epoch 1797/2000 Cost: 0.000001\n",
            "Epoch 1798/2000 Cost: 0.000001\n",
            "Epoch 1799/2000 Cost: 0.000001\n",
            "Epoch 1800/2000 Cost: 0.000001\n",
            "Epoch 1801/2000 Cost: 0.000001\n",
            "Epoch 1802/2000 Cost: 0.000001\n",
            "Epoch 1803/2000 Cost: 0.000001\n",
            "Epoch 1804/2000 Cost: 0.000001\n",
            "Epoch 1805/2000 Cost: 0.000001\n",
            "Epoch 1806/2000 Cost: 0.000001\n",
            "Epoch 1807/2000 Cost: 0.000001\n",
            "Epoch 1808/2000 Cost: 0.000001\n",
            "Epoch 1809/2000 Cost: 0.000001\n",
            "Epoch 1810/2000 Cost: 0.000001\n",
            "Epoch 1811/2000 Cost: 0.000001\n",
            "Epoch 1812/2000 Cost: 0.000001\n",
            "Epoch 1813/2000 Cost: 0.000001\n",
            "Epoch 1814/2000 Cost: 0.000001\n",
            "Epoch 1815/2000 Cost: 0.000001\n",
            "Epoch 1816/2000 Cost: 0.000001\n",
            "Epoch 1817/2000 Cost: 0.000001\n",
            "Epoch 1818/2000 Cost: 0.000001\n",
            "Epoch 1819/2000 Cost: 0.000001\n",
            "Epoch 1820/2000 Cost: 0.000001\n",
            "Epoch 1821/2000 Cost: 0.000001\n",
            "Epoch 1822/2000 Cost: 0.000001\n",
            "Epoch 1823/2000 Cost: 0.000001\n",
            "Epoch 1824/2000 Cost: 0.000001\n",
            "Epoch 1825/2000 Cost: 0.000001\n",
            "Epoch 1826/2000 Cost: 0.000001\n",
            "Epoch 1827/2000 Cost: 0.000001\n",
            "Epoch 1828/2000 Cost: 0.000001\n",
            "Epoch 1829/2000 Cost: 0.000001\n",
            "Epoch 1830/2000 Cost: 0.000001\n",
            "Epoch 1831/2000 Cost: 0.000001\n",
            "Epoch 1832/2000 Cost: 0.000001\n",
            "Epoch 1833/2000 Cost: 0.000001\n",
            "Epoch 1834/2000 Cost: 0.000001\n",
            "Epoch 1835/2000 Cost: 0.000001\n",
            "Epoch 1836/2000 Cost: 0.000001\n",
            "Epoch 1837/2000 Cost: 0.000001\n",
            "Epoch 1838/2000 Cost: 0.000001\n",
            "Epoch 1839/2000 Cost: 0.000001\n",
            "Epoch 1840/2000 Cost: 0.000001\n",
            "Epoch 1841/2000 Cost: 0.000001\n",
            "Epoch 1842/2000 Cost: 0.000001\n",
            "Epoch 1843/2000 Cost: 0.000001\n",
            "Epoch 1844/2000 Cost: 0.000001\n",
            "Epoch 1845/2000 Cost: 0.000001\n",
            "Epoch 1846/2000 Cost: 0.000001\n",
            "Epoch 1847/2000 Cost: 0.000001\n",
            "Epoch 1848/2000 Cost: 0.000001\n",
            "Epoch 1849/2000 Cost: 0.000001\n",
            "Epoch 1850/2000 Cost: 0.000001\n",
            "Epoch 1851/2000 Cost: 0.000001\n",
            "Epoch 1852/2000 Cost: 0.000001\n",
            "Epoch 1853/2000 Cost: 0.000001\n",
            "Epoch 1854/2000 Cost: 0.000001\n",
            "Epoch 1855/2000 Cost: 0.000001\n",
            "Epoch 1856/2000 Cost: 0.000001\n",
            "Epoch 1857/2000 Cost: 0.000001\n",
            "Epoch 1858/2000 Cost: 0.000001\n",
            "Epoch 1859/2000 Cost: 0.000001\n",
            "Epoch 1860/2000 Cost: 0.000001\n",
            "Epoch 1861/2000 Cost: 0.000001\n",
            "Epoch 1862/2000 Cost: 0.000001\n",
            "Epoch 1863/2000 Cost: 0.000001\n",
            "Epoch 1864/2000 Cost: 0.000001\n",
            "Epoch 1865/2000 Cost: 0.000001\n",
            "Epoch 1866/2000 Cost: 0.000001\n",
            "Epoch 1867/2000 Cost: 0.000001\n",
            "Epoch 1868/2000 Cost: 0.000001\n",
            "Epoch 1869/2000 Cost: 0.000001\n",
            "Epoch 1870/2000 Cost: 0.000001\n",
            "Epoch 1871/2000 Cost: 0.000001\n",
            "Epoch 1872/2000 Cost: 0.000001\n",
            "Epoch 1873/2000 Cost: 0.000001\n",
            "Epoch 1874/2000 Cost: 0.000001\n",
            "Epoch 1875/2000 Cost: 0.000001\n",
            "Epoch 1876/2000 Cost: 0.000001\n",
            "Epoch 1877/2000 Cost: 0.000001\n",
            "Epoch 1878/2000 Cost: 0.000001\n",
            "Epoch 1879/2000 Cost: 0.000001\n",
            "Epoch 1880/2000 Cost: 0.000001\n",
            "Epoch 1881/2000 Cost: 0.000001\n",
            "Epoch 1882/2000 Cost: 0.000001\n",
            "Epoch 1883/2000 Cost: 0.000001\n",
            "Epoch 1884/2000 Cost: 0.000001\n",
            "Epoch 1885/2000 Cost: 0.000001\n",
            "Epoch 1886/2000 Cost: 0.000001\n",
            "Epoch 1887/2000 Cost: 0.000001\n",
            "Epoch 1888/2000 Cost: 0.000001\n",
            "Epoch 1889/2000 Cost: 0.000001\n",
            "Epoch 1890/2000 Cost: 0.000001\n",
            "Epoch 1891/2000 Cost: 0.000001\n",
            "Epoch 1892/2000 Cost: 0.000001\n",
            "Epoch 1893/2000 Cost: 0.000000\n",
            "Epoch 1894/2000 Cost: 0.000000\n",
            "Epoch 1895/2000 Cost: 0.000000\n",
            "Epoch 1896/2000 Cost: 0.000000\n",
            "Epoch 1897/2000 Cost: 0.000000\n",
            "Epoch 1898/2000 Cost: 0.000000\n",
            "Epoch 1899/2000 Cost: 0.000000\n",
            "Epoch 1900/2000 Cost: 0.000000\n",
            "Epoch 1901/2000 Cost: 0.000000\n",
            "Epoch 1902/2000 Cost: 0.000000\n",
            "Epoch 1903/2000 Cost: 0.000000\n",
            "Epoch 1904/2000 Cost: 0.000000\n",
            "Epoch 1905/2000 Cost: 0.000000\n",
            "Epoch 1906/2000 Cost: 0.000000\n",
            "Epoch 1907/2000 Cost: 0.000000\n",
            "Epoch 1908/2000 Cost: 0.000000\n",
            "Epoch 1909/2000 Cost: 0.000000\n",
            "Epoch 1910/2000 Cost: 0.000000\n",
            "Epoch 1911/2000 Cost: 0.000000\n",
            "Epoch 1912/2000 Cost: 0.000000\n",
            "Epoch 1913/2000 Cost: 0.000000\n",
            "Epoch 1914/2000 Cost: 0.000000\n",
            "Epoch 1915/2000 Cost: 0.000000\n",
            "Epoch 1916/2000 Cost: 0.000000\n",
            "Epoch 1917/2000 Cost: 0.000000\n",
            "Epoch 1918/2000 Cost: 0.000000\n",
            "Epoch 1919/2000 Cost: 0.000000\n",
            "Epoch 1920/2000 Cost: 0.000000\n",
            "Epoch 1921/2000 Cost: 0.000000\n",
            "Epoch 1922/2000 Cost: 0.000000\n",
            "Epoch 1923/2000 Cost: 0.000000\n",
            "Epoch 1924/2000 Cost: 0.000000\n",
            "Epoch 1925/2000 Cost: 0.000000\n",
            "Epoch 1926/2000 Cost: 0.000000\n",
            "Epoch 1927/2000 Cost: 0.000000\n",
            "Epoch 1928/2000 Cost: 0.000000\n",
            "Epoch 1929/2000 Cost: 0.000000\n",
            "Epoch 1930/2000 Cost: 0.000000\n",
            "Epoch 1931/2000 Cost: 0.000000\n",
            "Epoch 1932/2000 Cost: 0.000000\n",
            "Epoch 1933/2000 Cost: 0.000000\n",
            "Epoch 1934/2000 Cost: 0.000000\n",
            "Epoch 1935/2000 Cost: 0.000000\n",
            "Epoch 1936/2000 Cost: 0.000000\n",
            "Epoch 1937/2000 Cost: 0.000000\n",
            "Epoch 1938/2000 Cost: 0.000000\n",
            "Epoch 1939/2000 Cost: 0.000000\n",
            "Epoch 1940/2000 Cost: 0.000000\n",
            "Epoch 1941/2000 Cost: 0.000000\n",
            "Epoch 1942/2000 Cost: 0.000000\n",
            "Epoch 1943/2000 Cost: 0.000000\n",
            "Epoch 1944/2000 Cost: 0.000000\n",
            "Epoch 1945/2000 Cost: 0.000000\n",
            "Epoch 1946/2000 Cost: 0.000000\n",
            "Epoch 1947/2000 Cost: 0.000000\n",
            "Epoch 1948/2000 Cost: 0.000000\n",
            "Epoch 1949/2000 Cost: 0.000000\n",
            "Epoch 1950/2000 Cost: 0.000000\n",
            "Epoch 1951/2000 Cost: 0.000000\n",
            "Epoch 1952/2000 Cost: 0.000000\n",
            "Epoch 1953/2000 Cost: 0.000000\n",
            "Epoch 1954/2000 Cost: 0.000000\n",
            "Epoch 1955/2000 Cost: 0.000000\n",
            "Epoch 1956/2000 Cost: 0.000000\n",
            "Epoch 1957/2000 Cost: 0.000000\n",
            "Epoch 1958/2000 Cost: 0.000000\n",
            "Epoch 1959/2000 Cost: 0.000000\n",
            "Epoch 1960/2000 Cost: 0.000000\n",
            "Epoch 1961/2000 Cost: 0.000000\n",
            "Epoch 1962/2000 Cost: 0.000000\n",
            "Epoch 1963/2000 Cost: 0.000000\n",
            "Epoch 1964/2000 Cost: 0.000000\n",
            "Epoch 1965/2000 Cost: 0.000000\n",
            "Epoch 1966/2000 Cost: 0.000000\n",
            "Epoch 1967/2000 Cost: 0.000000\n",
            "Epoch 1968/2000 Cost: 0.000000\n",
            "Epoch 1969/2000 Cost: 0.000000\n",
            "Epoch 1970/2000 Cost: 0.000000\n",
            "Epoch 1971/2000 Cost: 0.000000\n",
            "Epoch 1972/2000 Cost: 0.000000\n",
            "Epoch 1973/2000 Cost: 0.000000\n",
            "Epoch 1974/2000 Cost: 0.000000\n",
            "Epoch 1975/2000 Cost: 0.000000\n",
            "Epoch 1976/2000 Cost: 0.000000\n",
            "Epoch 1977/2000 Cost: 0.000000\n",
            "Epoch 1978/2000 Cost: 0.000000\n",
            "Epoch 1979/2000 Cost: 0.000000\n",
            "Epoch 1980/2000 Cost: 0.000000\n",
            "Epoch 1981/2000 Cost: 0.000000\n",
            "Epoch 1982/2000 Cost: 0.000000\n",
            "Epoch 1983/2000 Cost: 0.000000\n",
            "Epoch 1984/2000 Cost: 0.000000\n",
            "Epoch 1985/2000 Cost: 0.000000\n",
            "Epoch 1986/2000 Cost: 0.000000\n",
            "Epoch 1987/2000 Cost: 0.000000\n",
            "Epoch 1988/2000 Cost: 0.000000\n",
            "Epoch 1989/2000 Cost: 0.000000\n",
            "Epoch 1990/2000 Cost: 0.000000\n",
            "Epoch 1991/2000 Cost: 0.000000\n",
            "Epoch 1992/2000 Cost: 0.000000\n",
            "Epoch 1993/2000 Cost: 0.000000\n",
            "Epoch 1994/2000 Cost: 0.000000\n",
            "Epoch 1995/2000 Cost: 0.000000\n",
            "Epoch 1996/2000 Cost: 0.000000\n",
            "Epoch 1997/2000 Cost: 0.000000\n",
            "Epoch 1998/2000 Cost: 0.000000\n",
            "Epoch 1999/2000 Cost: 0.000000\n",
            "Epoch 2000/2000 Cost: 0.000000\n"
          ]
        }
      ]
    },
    {
      "cell_type": "code",
      "source": [
        "new_var=torch.FloatTensor([[4.0]])\n",
        "prd=model(new_var)\n",
        "print(prd)"
      ],
      "metadata": {
        "colab": {
          "base_uri": "https://localhost:8080/"
        },
        "id": "2ApBx9_hYUIz",
        "outputId": "aa1ced4a-e9af-4670-c1c5-15661814ea4f"
      },
      "execution_count": 24,
      "outputs": [
        {
          "output_type": "stream",
          "name": "stdout",
          "text": [
            "tensor([[7.9989]], grad_fn=<AddmmBackward0>)\n"
          ]
        }
      ]
    },
    {
      "cell_type": "code",
      "source": [
        "print(list(model.parameters()))"
      ],
      "metadata": {
        "colab": {
          "base_uri": "https://localhost:8080/"
        },
        "id": "j7OOllEfYmhD",
        "outputId": "10111579-c955-48fe-d1c6-3f0690af9905"
      },
      "execution_count": 25,
      "outputs": [
        {
          "output_type": "stream",
          "name": "stdout",
          "text": [
            "[Parameter containing:\n",
            "tensor([[1.9994]], requires_grad=True), Parameter containing:\n",
            "tensor([0.0014], requires_grad=True)]\n"
          ]
        }
      ]
    },
    {
      "cell_type": "code",
      "source": [
        "x_train = torch.FloatTensor([[73, 80, 75],\n",
        "                             [93, 88, 93],\n",
        "                             [89, 91, 90],\n",
        "                             [96, 98, 100],\n",
        "                             [73, 66, 70]])\n",
        "y_train = torch.FloatTensor([[152], [185], [180], [196], [142]])"
      ],
      "metadata": {
        "id": "mIGEJZ8QaZCL"
      },
      "execution_count": 27,
      "outputs": []
    },
    {
      "cell_type": "code",
      "source": [
        "model=nn.Linear(3, 1)\n",
        "print(list(model.parameters()))"
      ],
      "metadata": {
        "colab": {
          "base_uri": "https://localhost:8080/"
        },
        "id": "DLk4vn1LaeWG",
        "outputId": "612e8778-93a4-4ad5-9254-66e40552bc12"
      },
      "execution_count": 29,
      "outputs": [
        {
          "output_type": "stream",
          "name": "stdout",
          "text": [
            "[Parameter containing:\n",
            "tensor([[-0.1188,  0.2937,  0.0803]], requires_grad=True), Parameter containing:\n",
            "tensor([-0.0707], requires_grad=True)]\n"
          ]
        }
      ]
    },
    {
      "cell_type": "code",
      "source": [
        "optimizer=torch.optim.SGD(model.parameters(), lr=1e-5)"
      ],
      "metadata": {
        "id": "Oo2hNWptarMO"
      },
      "execution_count": 30,
      "outputs": []
    },
    {
      "cell_type": "code",
      "source": [
        "nb_epochs = 2000\n",
        "for epoch in range(nb_epochs+1):\n",
        "\n",
        "    prediction = model(x_train)\n",
        "\n",
        "    cost = F.mse_loss(prediction, y_train)\n",
        "\n",
        "    optimizer.zero_grad()\n",
        "    cost.backward()\n",
        "    optimizer.step()\n",
        "\n",
        "    if epoch % 100 == 0:\n",
        "      print('Epoch {:4d}/{} Cost: {:.6f}'.format(\n",
        "          epoch, nb_epochs, cost.item()\n",
        "      ))"
      ],
      "metadata": {
        "colab": {
          "base_uri": "https://localhost:8080/"
        },
        "id": "xRUvI7mWa6P3",
        "outputId": "11184645-ae3e-493e-937e-6768e8aacaa6"
      },
      "execution_count": 31,
      "outputs": [
        {
          "output_type": "stream",
          "name": "stdout",
          "text": [
            "Epoch    0/2000 Cost: 22642.416016\n",
            "Epoch  100/2000 Cost: 4.976951\n",
            "Epoch  200/2000 Cost: 4.733481\n",
            "Epoch  300/2000 Cost: 4.502824\n",
            "Epoch  400/2000 Cost: 4.284275\n",
            "Epoch  500/2000 Cost: 4.077209\n",
            "Epoch  600/2000 Cost: 3.881021\n",
            "Epoch  700/2000 Cost: 3.695124\n",
            "Epoch  800/2000 Cost: 3.519025\n",
            "Epoch  900/2000 Cost: 3.352130\n",
            "Epoch 1000/2000 Cost: 3.194023\n",
            "Epoch 1100/2000 Cost: 3.044178\n",
            "Epoch 1200/2000 Cost: 2.902206\n",
            "Epoch 1300/2000 Cost: 2.767665\n",
            "Epoch 1400/2000 Cost: 2.640176\n",
            "Epoch 1500/2000 Cost: 2.519374\n",
            "Epoch 1600/2000 Cost: 2.404892\n",
            "Epoch 1700/2000 Cost: 2.296402\n",
            "Epoch 1800/2000 Cost: 2.193589\n",
            "Epoch 1900/2000 Cost: 2.096157\n",
            "Epoch 2000/2000 Cost: 2.003828\n"
          ]
        }
      ]
    },
    {
      "cell_type": "markdown",
      "source": [
        "#3-5 클래스로 모델 구현"
      ],
      "metadata": {
        "id": "r3BQKn2WbpL6"
      }
    },
    {
      "cell_type": "code",
      "source": [
        "import torch\n",
        "import torch.nn as nn\n",
        "import torch.nn.functional as F\n",
        "import torch.optim as optim"
      ],
      "metadata": {
        "id": "wAiUX9ikcQ5t"
      },
      "execution_count": 33,
      "outputs": []
    },
    {
      "cell_type": "code",
      "source": [
        "class LRModel(nn.Module):\n",
        "  def __init__(self):\n",
        "    super().__init__()\n",
        "    self.linear=nn.Linear(1, 1)\n",
        "\n",
        "  def forward(self, x):\n",
        "    return self.linear(x)"
      ],
      "metadata": {
        "id": "QCP4O1-fbs-P"
      },
      "execution_count": 40,
      "outputs": []
    },
    {
      "cell_type": "code",
      "source": [
        "class MLRModel(nn.Module):\n",
        "  def __init__(self):\n",
        "    super().__init__()\n",
        "    self.linear=nn.Linear(3, 1)\n",
        "\n",
        "  def forward(self, x):\n",
        "    return self.linear(x)"
      ],
      "metadata": {
        "id": "mw3bjZl2cPlA"
      },
      "execution_count": 41,
      "outputs": []
    },
    {
      "cell_type": "code",
      "source": [
        "torch.manual_seed(1)"
      ],
      "metadata": {
        "colab": {
          "base_uri": "https://localhost:8080/"
        },
        "id": "iUxbWnnyc9El",
        "outputId": "f81e35b8-fef7-499a-d746-58d68f0fdbfd"
      },
      "execution_count": 36,
      "outputs": [
        {
          "output_type": "execute_result",
          "data": {
            "text/plain": [
              "<torch._C.Generator at 0x79b72f23fc30>"
            ]
          },
          "metadata": {},
          "execution_count": 36
        }
      ]
    },
    {
      "cell_type": "code",
      "source": [
        "x_train = torch.FloatTensor([[1], [2], [3]])\n",
        "y_train = torch.FloatTensor([[2], [4], [6]])"
      ],
      "metadata": {
        "id": "bui6mZwFdDRn"
      },
      "execution_count": 37,
      "outputs": []
    },
    {
      "cell_type": "code",
      "source": [
        "model=LRModel()"
      ],
      "metadata": {
        "id": "KHYVx4Z6dEq_"
      },
      "execution_count": 42,
      "outputs": []
    },
    {
      "cell_type": "code",
      "source": [
        "optimizer=optim.SGD(model.parameters(), lr=0.01)"
      ],
      "metadata": {
        "id": "hPgqvXT3gK72"
      },
      "execution_count": 56,
      "outputs": []
    },
    {
      "cell_type": "code",
      "source": [
        "epoch=2000"
      ],
      "metadata": {
        "id": "IcIpVZT3gVBd"
      },
      "execution_count": 54,
      "outputs": []
    },
    {
      "cell_type": "code",
      "source": [
        "for i in range(epoch+1):\n",
        "  P=model(x_train)\n",
        "\n",
        "  C=F.mse_loss(P, y_train)\n",
        "\n",
        "  optimizer.zero_grad()\n",
        "  C.backward()\n",
        "  optimizer.step()\n",
        "\n",
        "  if i % 100 == 0:\n",
        "      print('Epoch {:4d}/{} Cost: {:.6f}'.format(\n",
        "          i, epoch, C.item()\n",
        "      ))"
      ],
      "metadata": {
        "colab": {
          "base_uri": "https://localhost:8080/"
        },
        "id": "EXJ_Yp9hgaqe",
        "outputId": "809a02fb-ea37-478e-f3a9-a3b4504171bd"
      },
      "execution_count": 57,
      "outputs": [
        {
          "output_type": "stream",
          "name": "stdout",
          "text": [
            "Epoch    0/2000 Cost: 0.000000\n",
            "Epoch  100/2000 Cost: 0.000000\n",
            "Epoch  200/2000 Cost: 0.000000\n",
            "Epoch  300/2000 Cost: 0.000000\n",
            "Epoch  400/2000 Cost: 0.000000\n",
            "Epoch  500/2000 Cost: 0.000000\n",
            "Epoch  600/2000 Cost: 0.000000\n",
            "Epoch  700/2000 Cost: 0.000000\n",
            "Epoch  800/2000 Cost: 0.000000\n",
            "Epoch  900/2000 Cost: 0.000000\n",
            "Epoch 1000/2000 Cost: 0.000000\n",
            "Epoch 1100/2000 Cost: 0.000000\n",
            "Epoch 1200/2000 Cost: 0.000000\n",
            "Epoch 1300/2000 Cost: 0.000000\n",
            "Epoch 1400/2000 Cost: 0.000000\n",
            "Epoch 1500/2000 Cost: 0.000000\n",
            "Epoch 1600/2000 Cost: 0.000000\n",
            "Epoch 1700/2000 Cost: 0.000000\n",
            "Epoch 1800/2000 Cost: 0.000000\n",
            "Epoch 1900/2000 Cost: 0.000000\n",
            "Epoch 2000/2000 Cost: 0.000000\n"
          ]
        }
      ]
    },
    {
      "cell_type": "code",
      "source": [],
      "metadata": {
        "id": "A5UflWZRZWri"
      },
      "execution_count": null,
      "outputs": []
    }
  ]
}